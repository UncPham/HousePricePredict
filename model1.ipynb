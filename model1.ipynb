{
 "cells": [
  {
   "cell_type": "code",
   "execution_count": 13,
   "metadata": {},
   "outputs": [],
   "source": [
    "import pandas as pd\n",
    "import numpy as np\n",
    "from sklearn.model_selection import train_test_split\n",
    "from sklearn.linear_model import LinearRegression\n",
    "from sklearn.metrics import mean_squared_error, mean_absolute_error, r2_score\n",
    "from sklearn.ensemble import RandomForestRegressor\n",
    "from sklearn.model_selection import cross_val_score, KFold"
   ]
  },
  {
   "cell_type": "code",
   "execution_count": 14,
   "metadata": {},
   "outputs": [],
   "source": [
    "data = pd.read_csv('encode_data.csv')"
   ]
  },
  {
   "cell_type": "code",
   "execution_count": 15,
   "metadata": {},
   "outputs": [],
   "source": [
    "X = data[['Quận (mã hóa)', 'Loại Nhà (mã hóa)', 'Diện tích (m²)', 'Số phòng ngủ', 'Số toilet']]\n",
    "y = data['Mức giá (tỷ)']"
   ]
  },
  {
   "cell_type": "code",
   "execution_count": 16,
   "metadata": {},
   "outputs": [],
   "source": [
    "# Tham số cho việc chia tập dữ liệu để đánh giá hiệu suất chính xác hơn \n",
    "kfold = KFold(n_splits=10, shuffle=True, random_state=42)"
   ]
  },
  {
   "cell_type": "markdown",
   "metadata": {},
   "source": []
  },
  {
   "cell_type": "markdown",
   "metadata": {},
   "source": [
    "### Baseline cho bài toán"
   ]
  },
  {
   "cell_type": "code",
   "execution_count": 17,
   "metadata": {},
   "outputs": [
    {
     "name": "stdout",
     "output_type": "stream",
     "text": [
      "- Mean Squared Error: 260.2562360157245\n",
      "- Cross-validated scores: [0.51064668 0.47260574 0.55965191 0.26477782 0.3398747  0.43272753\n",
      " 0.37182106 0.50481754 0.50628477 0.45522875]\n",
      "- Mean accuracy: 0.4418436507556585\n"
     ]
    }
   ],
   "source": [
    "# Phân chia dữ liệu thành tập huấn luyện và tập kiểm tra\n",
    "X_train, X_test, y_train, y_test = train_test_split(X, y, test_size=0.3)\n",
    "\n",
    "model_lr = LinearRegression()\n",
    "model_lr.fit(X_train, y_train)\n",
    "\n",
    "y_pred_lr = model_lr.predict(X_test)\n",
    "mse = mean_squared_error(y_test, y_pred_lr)\n",
    "print('- Mean Squared Error:', mse)\n",
    "score = cross_val_score(model_lr, X, y, cv=kfold)\n",
    "print(\"- Cross-validated scores:\", score)\n",
    "print(\"- Mean accuracy:\", score.mean())"
   ]
  },
  {
   "cell_type": "markdown",
   "metadata": {},
   "source": [
    "### Xây dựng các mô hình khác nhau và đánh giá hiệu suất"
   ]
  },
  {
   "cell_type": "markdown",
   "metadata": {},
   "source": [
    "#### Mô hình Random Forest"
   ]
  },
  {
   "cell_type": "code",
   "execution_count": 18,
   "metadata": {},
   "outputs": [
    {
     "name": "stdout",
     "output_type": "stream",
     "text": [
      "- Mean Squared Error: 180.42613784191704\n",
      "- R2:  0.7173881430243907\n",
      "- MAE:  3.551459426154833\n",
      "- Cross-validated scores: [0.74703094 0.68689448 0.70900873 0.69180014 0.61831692 0.81138215\n",
      " 0.73484161 0.8215641  0.48122397 0.80045228]\n",
      "- Mean accuracy: 0.710251531612259\n"
     ]
    }
   ],
   "source": [
    "# Mô hình Random Forest\n",
    "X_train, X_test, y_train, y_test = train_test_split(X, y, test_size=0.2, random_state=42)\n",
    "\n",
    "model_rf = RandomForestRegressor()\n",
    "\n",
    "\n",
    "model_rf.fit(X_train, y_train)\n",
    "\n",
    "y_pred_rf = model_rf.predict(X_test)\n",
    "\n",
    "mse = mean_squared_error(y_test, y_pred_rf)\n",
    "print('- Mean Squared Error:', mse)\n",
    "r2_score = r2_score(y_test, y_pred_rf)\n",
    "print(\"- R2: \", r2_score)\n",
    "mae = mean_absolute_error(y_test, y_pred_rf)\n",
    "print(\"- MAE: \", mae)\n",
    "score = cross_val_score(model_rf, X, y, cv=kfold)\n",
    "print(\"- Cross-validated scores:\", score)\n",
    "print(\"- Mean accuracy:\", score.mean())"
   ]
  },
  {
   "cell_type": "markdown",
   "metadata": {},
   "source": [
    "Tối ưu mô hình bằng cách thêm siêu tham số cho Random Forest"
   ]
  },
  {
   "cell_type": "code",
   "execution_count": 19,
   "metadata": {},
   "outputs": [],
   "source": [
    "#from sklearn.model_selection import GridSearchCV\n",
    "\n",
    "# Định nghĩa các giá trị để thử nghiệm cho các siêu tham số\n",
    "#param_grid = {\n",
    "    #'n_estimators': [100, 200, 300],\n",
    "    #'max_depth': [None, 10, 20],\n",
    "    #'min_samples_split': [2, 5, 10],\n",
    "    #'min_samples_leaf': [1, 2, 4]\n",
    "#}\n",
    "\n",
    "# Tạo một đối tượng GridSearchCV\n",
    "#grid_search = GridSearchCV(estimator=RandomForestRegressor(), param_grid=param_grid, cv=5, n_jobs=-1, verbose=2)\n",
    "\n",
    "# Huấn luyện mô hình với dữ liệu huấn luyện\n",
    "#grid_search.fit(X_train, y_train)\n",
    "\n",
    "# In ra các siêu tham số tốt nhất\n",
    "#print(\"Best Parameters:\", grid_search.best_params_)\n",
    "\n",
    "# Dùng mô hình tối ưu hóa để dự đoán và đánh giá\n",
    "#best_model = grid_search.best_estimator_\n",
    "#y_pred_best = best_model.predict(X_test)\n",
    "#mse_best = mean_squared_error(y_test, y_pred_best)\n",
    "#print('- Mean Squared Error (optimized):', mse_best)\n"
   ]
  },
  {
   "cell_type": "markdown",
   "metadata": {},
   "source": [
    "#### Mô hình Support Vector Machine"
   ]
  },
  {
   "cell_type": "code",
   "execution_count": 20,
   "metadata": {},
   "outputs": [
    {
     "name": "stdout",
     "output_type": "stream",
     "text": [
      "- Mean Squared Error (Random Forest): 498.7412698195552\n"
     ]
    }
   ],
   "source": [
    "# Mô hình Support Vector Machine\n",
    "from sklearn.svm import SVR\n",
    "\n",
    "X_train, X_test, y_train, y_test = train_test_split(X, y, test_size=0.2, random_state=42)\n",
    "\n",
    "model_svr = SVR()  \n",
    "\n",
    "model_svr.fit(X_train, y_train)\n",
    "\n",
    "y_pred_svr = model_svr.predict(X_test)\n",
    "\n",
    "mse_svr = mean_squared_error(y_test, y_pred_svr)\n",
    "print('- Mean Squared Error (Random Forest):', mse_svr)\n",
    "score = cross_val_score(model_svr, X, y, cv=kfold)\n",
    "print(\"- Cross-validated scores:\", score)\n",
    "print(\"- Mean accuracy:\", score.mean())\n"
   ]
  },
  {
   "cell_type": "markdown",
   "metadata": {},
   "source": [
    "#### Mô hình Gradient Boosting "
   ]
  },
  {
   "cell_type": "code",
   "execution_count": null,
   "metadata": {},
   "outputs": [
    {
     "name": "stdout",
     "output_type": "stream",
     "text": [
      "- Mean Squared Error (Gradient Boosting Regression): 186.5436288077351\n",
      "- Cross-validated scores: [0.68508902 0.73359579 0.70228167 0.66568529 0.75426631 0.7885658\n",
      " 0.77499103 0.78505755 0.53571986 0.77846045]\n",
      "- Mean accuracy: 0.7203712767917978\n",
      "- R-squared (Gradient Boosting Regression): 0.7078059643968344\n",
      "- MAEr (Gradient Boosting Regression): 3.841362191782379\n",
      "- RMSE (Gradient Boosting Regression): 13.658097554481557\n",
      "- Cross-validated scores: [0.68640567 0.74002139 0.69734117 0.67280665 0.7487702  0.7885658\n",
      " 0.77150153 0.78498918 0.46574794 0.78126573]\n",
      "- Mean accuracy: 0.7137415255855688\n"
     ]
    }
   ],
   "source": [
    "# Mô hình Gradient Boosting\n",
    "\n",
    "from sklearn.ensemble import GradientBoostingRegressor\n",
    "\n",
    "X = data[['Quận (mã hóa)', 'Loại Nhà (mã hóa)', 'Diện tích (m²)', 'Số phòng ngủ', 'Số toilet']]\n",
    "y = data['Mức giá (tỷ)']\n",
    "\n",
    "X_train, X_test, y_train, y_test = train_test_split(X, y, test_size=0.2, random_state=42)\n",
    "\n",
    "model_gb = GradientBoostingRegressor()\n",
    "\n",
    "model_gb.fit(X_train, y_train)\n",
    "\n",
    "y_pred_gb = model_gb.predict(X_test)\n",
    "\n",
    "mse_gb = mean_squared_error(y_test, y_pred_gb)\n",
    "print('- MSE (Gradient Boosting Regression):', mse_gb)\n",
    "r2_gb = r2_score(y_test, y_pred_gb)\n",
    "print('- R-squared (Gradient Boosting Regression):', r2_gb)\n",
    "\n",
    "mae_gb = mean_absolute_error(y_test, y_pred_gb)\n",
    "print('- MAEr (Gradient Boosting Regression):', mae_gb)\n",
    "\n",
    "rmse_gb = np.sqrt(mse_gb)\n",
    "print('- RMSE (Gradient Boosting Regression):', rmse_gb)\n",
    "\n",
    "score = cross_val_score(model_gb, X, y, cv=kfold)\n",
    "print(\"- Cross-validated scores:\", score)\n",
    "print(\"- Mean accuracy:\", score.mean())\n"
   ]
  },
  {
   "cell_type": "markdown",
   "metadata": {},
   "source": [
    "Thử tối ưu mô hình khi thêm các siêu tham số"
   ]
  },
  {
   "cell_type": "code",
   "execution_count": null,
   "metadata": {},
   "outputs": [
    {
     "name": "stdout",
     "output_type": "stream",
     "text": [
      "- MSE (Gradient Boosting Regression): 181.6731267811573\n",
      "- R-squared (Gradient Boosting Regression): 0.715434912389617\n",
      "- MAEr (Gradient Boosting Regression): 3.752965621820666\n",
      "- RMSE (Gradient Boosting Regression): 13.478617391303802\n",
      "- Cross-validated scores: [0.68218825 0.74224237 0.71926983 0.68669983 0.77576682 0.80217135\n",
      " 0.77268249 0.79480233 0.52304653 0.78265862]\n",
      "- Mean accuracy: 0.7281528419218496\n"
     ]
    }
   ],
   "source": [
    "from sklearn.ensemble import GradientBoostingRegressor\n",
    "from sklearn.model_selection import train_test_split, cross_val_score, KFold\n",
    "import numpy as np\n",
    "\n",
    "# Dữ liệu và các tính năng\n",
    "X = data[['Quận (mã hóa)', 'Loại Nhà (mã hóa)', 'Diện tích (m²)', 'Số phòng ngủ', 'Số toilet']]\n",
    "y = data['Mức giá (tỷ)']\n",
    "\n",
    "# Chia dữ liệu thành tập huấn luyện và tập kiểm tra\n",
    "X_train, X_test, y_train, y_test = train_test_split(X, y, test_size=0.2, random_state=42)\n",
    "\n",
    "# Khởi tạo mô hình Gradient Boosting Regression\n",
    "model_gb = GradientBoostingRegressor(\n",
    "    n_estimators=200,\n",
    "    learning_rate=0.1,\n",
    "    min_samples_split=2,\n",
    "    max_depth=3\n",
    ")\n",
    "\n",
    "# Huấn luyện mô hình trên tập huấn luyện\n",
    "model_gb.fit(X_train, y_train)\n",
    "\n",
    "# Dự đoán giá trị trên tập kiểm tra\n",
    "y_pred_gb = model_gb.predict(X_test)\n",
    "\n",
    "mse_gb = mean_squared_error(y_test, y_pred_gb)\n",
    "print('- MSE (Gradient Boosting Regression):', mse_gb)\n",
    "\n",
    "r2_gb = r2_score(y_test, y_pred_gb)\n",
    "print('- R-squared (Gradient Boosting Regression):', r2_gb)\n",
    "\n",
    "mae_gb = mean_absolute_error(y_test, y_pred_gb)\n",
    "print('- MAEr (Gradient Boosting Regression):', mae_gb)\n",
    "\n",
    "rmse_gb = np.sqrt(mse_gb)\n",
    "print('- RMSE (Gradient Boosting Regression):', rmse_gb)\n",
    "\n",
    "score = cross_val_score(model_gb, X, y, cv=kfold)\n",
    "print(\"- Cross-validated scores:\", score)\n",
    "print(\"- Mean accuracy:\", score.mean())\n"
   ]
  },
  {
   "cell_type": "markdown",
   "metadata": {},
   "source": [
    "#### Mô hình KNN"
   ]
  },
  {
   "cell_type": "code",
   "execution_count": null,
   "metadata": {},
   "outputs": [
    {
     "name": "stdout",
     "output_type": "stream",
     "text": [
      "- Mean Squared Error (KNN Regression): 278.76155564031455\n",
      "- Cross-validated scores: [0.56592188 0.65184781 0.51871488 0.23505568 0.42008432 0.4908515\n",
      " 0.37780154 0.61264055 0.60449371 0.51573984]\n",
      "- Mean accuracy: 0.4993151729584092\n"
     ]
    }
   ],
   "source": [
    "# Mô hình KNN\n",
    "from sklearn.neighbors import KNeighborsRegressor\n",
    "\n",
    "X_train, X_test, y_train, y_test = train_test_split(X, y, test_size=0.2, random_state=42)\n",
    "\n",
    "model_knn = KNeighborsRegressor(n_neighbors=7)\n",
    "\n",
    "model_knn.fit(X_train, y_train)\n",
    "\n",
    "y_pred_knn = model_knn.predict(X_test)\n",
    "\n",
    "mse_knn = mean_squared_error(y_test, y_pred_knn)\n",
    "print('- Mean Squared Error (KNN Regression):', mse_knn)\n",
    "score = cross_val_score(model_knn, X, y, cv=kfold)\n",
    "print(\"- Cross-validated scores:\", score)\n",
    "print(\"- Mean accuracy:\", score.mean())"
   ]
  }
 ],
 "metadata": {
  "kernelspec": {
   "display_name": "Python 3",
   "language": "python",
   "name": "python3"
  },
  "language_info": {
   "codemirror_mode": {
    "name": "ipython",
    "version": 3
   },
   "file_extension": ".py",
   "mimetype": "text/x-python",
   "name": "python",
   "nbconvert_exporter": "python",
   "pygments_lexer": "ipython3",
   "version": "3.12.2"
  }
 },
 "nbformat": 4,
 "nbformat_minor": 2
}
