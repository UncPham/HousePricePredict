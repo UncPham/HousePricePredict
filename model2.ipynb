{
 "cells": [
  {
   "cell_type": "code",
   "execution_count": 49,
   "metadata": {},
   "outputs": [
    {
     "data": {
      "text/html": [
       "<div>\n",
       "<style scoped>\n",
       "    .dataframe tbody tr th:only-of-type {\n",
       "        vertical-align: middle;\n",
       "    }\n",
       "\n",
       "    .dataframe tbody tr th {\n",
       "        vertical-align: top;\n",
       "    }\n",
       "\n",
       "    .dataframe thead th {\n",
       "        text-align: right;\n",
       "    }\n",
       "</style>\n",
       "<table border=\"1\" class=\"dataframe\">\n",
       "  <thead>\n",
       "    <tr style=\"text-align: right;\">\n",
       "      <th></th>\n",
       "      <th>Quận</th>\n",
       "      <th>Loại nhà</th>\n",
       "      <th>Diện tích (m²)</th>\n",
       "      <th>Mức giá (tỷ)</th>\n",
       "      <th>Số phòng ngủ</th>\n",
       "      <th>Số toilet</th>\n",
       "      <th>Loại Nhà (mã hóa)</th>\n",
       "      <th>Quận (mã hóa)</th>\n",
       "      <th>Khoảng giá</th>\n",
       "      <th>Mức giá (triệu/m²)</th>\n",
       "    </tr>\n",
       "  </thead>\n",
       "  <tbody>\n",
       "    <tr>\n",
       "      <th>0</th>\n",
       "      <td>Gia Lâm</td>\n",
       "      <td>Căn hộ chung cư</td>\n",
       "      <td>55.0</td>\n",
       "      <td>2.07</td>\n",
       "      <td>2</td>\n",
       "      <td>1</td>\n",
       "      <td>0</td>\n",
       "      <td>4</td>\n",
       "      <td>1</td>\n",
       "      <td>37.636364</td>\n",
       "    </tr>\n",
       "    <tr>\n",
       "      <th>1</th>\n",
       "      <td>Nam Từ Liêm</td>\n",
       "      <td>Căn hộ chung cư</td>\n",
       "      <td>140.0</td>\n",
       "      <td>9.50</td>\n",
       "      <td>4</td>\n",
       "      <td>3</td>\n",
       "      <td>0</td>\n",
       "      <td>12</td>\n",
       "      <td>1</td>\n",
       "      <td>67.857143</td>\n",
       "    </tr>\n",
       "    <tr>\n",
       "      <th>2</th>\n",
       "      <td>Hà Đông</td>\n",
       "      <td>Căn hộ chung cư</td>\n",
       "      <td>98.0</td>\n",
       "      <td>3.19</td>\n",
       "      <td>3</td>\n",
       "      <td>2</td>\n",
       "      <td>0</td>\n",
       "      <td>9</td>\n",
       "      <td>1</td>\n",
       "      <td>32.551020</td>\n",
       "    </tr>\n",
       "    <tr>\n",
       "      <th>3</th>\n",
       "      <td>Nam Từ Liêm</td>\n",
       "      <td>Căn hộ chung cư</td>\n",
       "      <td>59.0</td>\n",
       "      <td>2.90</td>\n",
       "      <td>2</td>\n",
       "      <td>2</td>\n",
       "      <td>0</td>\n",
       "      <td>12</td>\n",
       "      <td>1</td>\n",
       "      <td>49.152542</td>\n",
       "    </tr>\n",
       "    <tr>\n",
       "      <th>4</th>\n",
       "      <td>Hà Đông</td>\n",
       "      <td>Căn hộ chung cư</td>\n",
       "      <td>92.0</td>\n",
       "      <td>3.50</td>\n",
       "      <td>2</td>\n",
       "      <td>2</td>\n",
       "      <td>0</td>\n",
       "      <td>9</td>\n",
       "      <td>1</td>\n",
       "      <td>38.043478</td>\n",
       "    </tr>\n",
       "    <tr>\n",
       "      <th>...</th>\n",
       "      <td>...</td>\n",
       "      <td>...</td>\n",
       "      <td>...</td>\n",
       "      <td>...</td>\n",
       "      <td>...</td>\n",
       "      <td>...</td>\n",
       "      <td>...</td>\n",
       "      <td>...</td>\n",
       "      <td>...</td>\n",
       "      <td>...</td>\n",
       "    </tr>\n",
       "    <tr>\n",
       "      <th>7887</th>\n",
       "      <td>Bắc Từ Liêm</td>\n",
       "      <td>Căn hộ chung cư</td>\n",
       "      <td>98.0</td>\n",
       "      <td>6.35</td>\n",
       "      <td>3</td>\n",
       "      <td>2</td>\n",
       "      <td>0</td>\n",
       "      <td>1</td>\n",
       "      <td>1</td>\n",
       "      <td>64.795918</td>\n",
       "    </tr>\n",
       "    <tr>\n",
       "      <th>7888</th>\n",
       "      <td>Hà Đông</td>\n",
       "      <td>Nhà mặt phố</td>\n",
       "      <td>225.0</td>\n",
       "      <td>66.00</td>\n",
       "      <td>6</td>\n",
       "      <td>8</td>\n",
       "      <td>1</td>\n",
       "      <td>9</td>\n",
       "      <td>3</td>\n",
       "      <td>293.333333</td>\n",
       "    </tr>\n",
       "    <tr>\n",
       "      <th>7889</th>\n",
       "      <td>Nam Từ Liêm</td>\n",
       "      <td>Nhà riêng</td>\n",
       "      <td>40.0</td>\n",
       "      <td>4.00</td>\n",
       "      <td>4</td>\n",
       "      <td>4</td>\n",
       "      <td>2</td>\n",
       "      <td>12</td>\n",
       "      <td>1</td>\n",
       "      <td>100.000000</td>\n",
       "    </tr>\n",
       "    <tr>\n",
       "      <th>7890</th>\n",
       "      <td>Gia Lâm</td>\n",
       "      <td>Căn hộ chung cư</td>\n",
       "      <td>70.0</td>\n",
       "      <td>2.45</td>\n",
       "      <td>2</td>\n",
       "      <td>2</td>\n",
       "      <td>0</td>\n",
       "      <td>4</td>\n",
       "      <td>1</td>\n",
       "      <td>35.000000</td>\n",
       "    </tr>\n",
       "    <tr>\n",
       "      <th>7891</th>\n",
       "      <td>Tây Hồ</td>\n",
       "      <td>Nhà riêng</td>\n",
       "      <td>300.0</td>\n",
       "      <td>97.00</td>\n",
       "      <td>36</td>\n",
       "      <td>22</td>\n",
       "      <td>2</td>\n",
       "      <td>21</td>\n",
       "      <td>3</td>\n",
       "      <td>323.333333</td>\n",
       "    </tr>\n",
       "  </tbody>\n",
       "</table>\n",
       "<p>7892 rows × 10 columns</p>\n",
       "</div>"
      ],
      "text/plain": [
       "             Quận         Loại nhà  Diện tích (m²)  Mức giá (tỷ)  \\\n",
       "0         Gia Lâm  Căn hộ chung cư            55.0          2.07   \n",
       "1     Nam Từ Liêm  Căn hộ chung cư           140.0          9.50   \n",
       "2         Hà Đông  Căn hộ chung cư            98.0          3.19   \n",
       "3     Nam Từ Liêm  Căn hộ chung cư            59.0          2.90   \n",
       "4         Hà Đông  Căn hộ chung cư            92.0          3.50   \n",
       "...           ...              ...             ...           ...   \n",
       "7887  Bắc Từ Liêm  Căn hộ chung cư            98.0          6.35   \n",
       "7888      Hà Đông      Nhà mặt phố           225.0         66.00   \n",
       "7889  Nam Từ Liêm        Nhà riêng            40.0          4.00   \n",
       "7890      Gia Lâm  Căn hộ chung cư            70.0          2.45   \n",
       "7891       Tây Hồ        Nhà riêng           300.0         97.00   \n",
       "\n",
       "      Số phòng ngủ  Số toilet  Loại Nhà (mã hóa)  Quận (mã hóa)  Khoảng giá  \\\n",
       "0                2          1                  0              4           1   \n",
       "1                4          3                  0             12           1   \n",
       "2                3          2                  0              9           1   \n",
       "3                2          2                  0             12           1   \n",
       "4                2          2                  0              9           1   \n",
       "...            ...        ...                ...            ...         ...   \n",
       "7887             3          2                  0              1           1   \n",
       "7888             6          8                  1              9           3   \n",
       "7889             4          4                  2             12           1   \n",
       "7890             2          2                  0              4           1   \n",
       "7891            36         22                  2             21           3   \n",
       "\n",
       "      Mức giá (triệu/m²)  \n",
       "0              37.636364  \n",
       "1              67.857143  \n",
       "2              32.551020  \n",
       "3              49.152542  \n",
       "4              38.043478  \n",
       "...                  ...  \n",
       "7887           64.795918  \n",
       "7888          293.333333  \n",
       "7889          100.000000  \n",
       "7890           35.000000  \n",
       "7891          323.333333  \n",
       "\n",
       "[7892 rows x 10 columns]"
      ]
     },
     "execution_count": 49,
     "metadata": {},
     "output_type": "execute_result"
    }
   ],
   "source": [
    "import pandas as pd\n",
    "import numpy as np\n",
    "from scipy import stats\n",
    "from sklearn.metrics import mean_squared_error\n",
    "\n",
    "import matplotlib.pyplot as plt\n",
    "import seaborn as sns\n",
    "\n",
    "from sklearn.model_selection import train_test_split, GridSearchCV, cross_val_score\n",
    "from sklearn.compose import make_column_transformer, ColumnTransformer\n",
    "from sklearn.pipeline import Pipeline, make_pipeline\n",
    "from sklearn.impute import SimpleImputer\n",
    "from sklearn.preprocessing import OrdinalEncoder, StandardScaler, OneHotEncoder\n",
    "\n",
    "from sklearn.linear_model import LinearRegression, Ridge\n",
    "from sklearn.ensemble import RandomForestRegressor, GradientBoostingRegressor, VotingRegressor, StackingRegressor\n",
    "from xgboost import XGBRegressor\n",
    "from catboost import CatBoostRegressor\n",
    "import lightgbm as lgb\n",
    "\n",
    "# Load data\n",
    "data = pd.read_csv('encode_data.csv')  \n",
    "\n",
    "data"
   ]
  },
  {
   "cell_type": "code",
   "execution_count": 50,
   "metadata": {},
   "outputs": [],
   "source": [
    "X = data[['Quận (mã hóa)', 'Loại Nhà (mã hóa)', 'Diện tích (m²)', 'Số phòng ngủ', 'Số toilet', 'Khoảng giá', 'Mức giá (triệu/m²)']]\n",
    "y = data['Mức giá (tỷ)']\n",
    "\n",
    "X_train, X_test, y_train, y_test = train_test_split(X, y, test_size=0.2, random_state=25)"
   ]
  },
  {
   "cell_type": "code",
   "execution_count": 51,
   "metadata": {},
   "outputs": [],
   "source": [
    "lr = LinearRegression()"
   ]
  },
  {
   "cell_type": "code",
   "execution_count": 52,
   "metadata": {},
   "outputs": [
    {
     "data": {
      "text/html": [
       "<style>#sk-container-id-6 {color: black;background-color: white;}#sk-container-id-6 pre{padding: 0;}#sk-container-id-6 div.sk-toggleable {background-color: white;}#sk-container-id-6 label.sk-toggleable__label {cursor: pointer;display: block;width: 100%;margin-bottom: 0;padding: 0.3em;box-sizing: border-box;text-align: center;}#sk-container-id-6 label.sk-toggleable__label-arrow:before {content: \"▸\";float: left;margin-right: 0.25em;color: #696969;}#sk-container-id-6 label.sk-toggleable__label-arrow:hover:before {color: black;}#sk-container-id-6 div.sk-estimator:hover label.sk-toggleable__label-arrow:before {color: black;}#sk-container-id-6 div.sk-toggleable__content {max-height: 0;max-width: 0;overflow: hidden;text-align: left;background-color: #f0f8ff;}#sk-container-id-6 div.sk-toggleable__content pre {margin: 0.2em;color: black;border-radius: 0.25em;background-color: #f0f8ff;}#sk-container-id-6 input.sk-toggleable__control:checked~div.sk-toggleable__content {max-height: 200px;max-width: 100%;overflow: auto;}#sk-container-id-6 input.sk-toggleable__control:checked~label.sk-toggleable__label-arrow:before {content: \"▾\";}#sk-container-id-6 div.sk-estimator input.sk-toggleable__control:checked~label.sk-toggleable__label {background-color: #d4ebff;}#sk-container-id-6 div.sk-label input.sk-toggleable__control:checked~label.sk-toggleable__label {background-color: #d4ebff;}#sk-container-id-6 input.sk-hidden--visually {border: 0;clip: rect(1px 1px 1px 1px);clip: rect(1px, 1px, 1px, 1px);height: 1px;margin: -1px;overflow: hidden;padding: 0;position: absolute;width: 1px;}#sk-container-id-6 div.sk-estimator {font-family: monospace;background-color: #f0f8ff;border: 1px dotted black;border-radius: 0.25em;box-sizing: border-box;margin-bottom: 0.5em;}#sk-container-id-6 div.sk-estimator:hover {background-color: #d4ebff;}#sk-container-id-6 div.sk-parallel-item::after {content: \"\";width: 100%;border-bottom: 1px solid gray;flex-grow: 1;}#sk-container-id-6 div.sk-label:hover label.sk-toggleable__label {background-color: #d4ebff;}#sk-container-id-6 div.sk-serial::before {content: \"\";position: absolute;border-left: 1px solid gray;box-sizing: border-box;top: 0;bottom: 0;left: 50%;z-index: 0;}#sk-container-id-6 div.sk-serial {display: flex;flex-direction: column;align-items: center;background-color: white;padding-right: 0.2em;padding-left: 0.2em;position: relative;}#sk-container-id-6 div.sk-item {position: relative;z-index: 1;}#sk-container-id-6 div.sk-parallel {display: flex;align-items: stretch;justify-content: center;background-color: white;position: relative;}#sk-container-id-6 div.sk-item::before, #sk-container-id-6 div.sk-parallel-item::before {content: \"\";position: absolute;border-left: 1px solid gray;box-sizing: border-box;top: 0;bottom: 0;left: 50%;z-index: -1;}#sk-container-id-6 div.sk-parallel-item {display: flex;flex-direction: column;z-index: 1;position: relative;background-color: white;}#sk-container-id-6 div.sk-parallel-item:first-child::after {align-self: flex-end;width: 50%;}#sk-container-id-6 div.sk-parallel-item:last-child::after {align-self: flex-start;width: 50%;}#sk-container-id-6 div.sk-parallel-item:only-child::after {width: 0;}#sk-container-id-6 div.sk-dashed-wrapped {border: 1px dashed gray;margin: 0 0.4em 0.5em 0.4em;box-sizing: border-box;padding-bottom: 0.4em;background-color: white;}#sk-container-id-6 div.sk-label label {font-family: monospace;font-weight: bold;display: inline-block;line-height: 1.2em;}#sk-container-id-6 div.sk-label-container {text-align: center;}#sk-container-id-6 div.sk-container {/* jupyter's `normalize.less` sets `[hidden] { display: none; }` but bootstrap.min.css set `[hidden] { display: none !important; }` so we also need the `!important` here to be able to override the default hidden behavior on the sphinx rendered scikit-learn.org. See: https://github.com/scikit-learn/scikit-learn/issues/21755 */display: inline-block !important;position: relative;}#sk-container-id-6 div.sk-text-repr-fallback {display: none;}</style><div id=\"sk-container-id-6\" class=\"sk-top-container\"><div class=\"sk-text-repr-fallback\"><pre>LinearRegression()</pre><b>In a Jupyter environment, please rerun this cell to show the HTML representation or trust the notebook. <br />On GitHub, the HTML representation is unable to render, please try loading this page with nbviewer.org.</b></div><div class=\"sk-container\" hidden><div class=\"sk-item\"><div class=\"sk-estimator sk-toggleable\"><input class=\"sk-toggleable__control sk-hidden--visually\" id=\"sk-estimator-id-16\" type=\"checkbox\" checked><label for=\"sk-estimator-id-16\" class=\"sk-toggleable__label sk-toggleable__label-arrow\">LinearRegression</label><div class=\"sk-toggleable__content\"><pre>LinearRegression()</pre></div></div></div></div></div>"
      ],
      "text/plain": [
       "LinearRegression()"
      ]
     },
     "execution_count": 52,
     "metadata": {},
     "output_type": "execute_result"
    }
   ],
   "source": [
    "lr.fit(X_train, y_train)"
   ]
  },
  {
   "cell_type": "code",
   "execution_count": 53,
   "metadata": {},
   "outputs": [
    {
     "data": {
      "text/plain": [
       "70.42452393670399"
      ]
     },
     "execution_count": 53,
     "metadata": {},
     "output_type": "execute_result"
    }
   ],
   "source": [
    "y_pred_lr = lr.predict(X_test)\n",
    "\n",
    "mean_squared_error(y_test, y_pred_lr)"
   ]
  },
  {
   "cell_type": "code",
   "execution_count": 54,
   "metadata": {},
   "outputs": [],
   "source": [
    "RFR = RandomForestRegressor(random_state=13)"
   ]
  },
  {
   "cell_type": "code",
   "execution_count": 55,
   "metadata": {},
   "outputs": [],
   "source": [
    "param_grid_RFR = {\n",
    "    'max_depth': [12, 15, 18],\n",
    "    'n_estimators': [200, 400, 500],\n",
    "    'min_samples_split': [9, 12, 15]\n",
    "}"
   ]
  },
  {
   "cell_type": "code",
   "execution_count": 56,
   "metadata": {},
   "outputs": [
    {
     "data": {
      "text/html": [
       "<style>#sk-container-id-7 {color: black;background-color: white;}#sk-container-id-7 pre{padding: 0;}#sk-container-id-7 div.sk-toggleable {background-color: white;}#sk-container-id-7 label.sk-toggleable__label {cursor: pointer;display: block;width: 100%;margin-bottom: 0;padding: 0.3em;box-sizing: border-box;text-align: center;}#sk-container-id-7 label.sk-toggleable__label-arrow:before {content: \"▸\";float: left;margin-right: 0.25em;color: #696969;}#sk-container-id-7 label.sk-toggleable__label-arrow:hover:before {color: black;}#sk-container-id-7 div.sk-estimator:hover label.sk-toggleable__label-arrow:before {color: black;}#sk-container-id-7 div.sk-toggleable__content {max-height: 0;max-width: 0;overflow: hidden;text-align: left;background-color: #f0f8ff;}#sk-container-id-7 div.sk-toggleable__content pre {margin: 0.2em;color: black;border-radius: 0.25em;background-color: #f0f8ff;}#sk-container-id-7 input.sk-toggleable__control:checked~div.sk-toggleable__content {max-height: 200px;max-width: 100%;overflow: auto;}#sk-container-id-7 input.sk-toggleable__control:checked~label.sk-toggleable__label-arrow:before {content: \"▾\";}#sk-container-id-7 div.sk-estimator input.sk-toggleable__control:checked~label.sk-toggleable__label {background-color: #d4ebff;}#sk-container-id-7 div.sk-label input.sk-toggleable__control:checked~label.sk-toggleable__label {background-color: #d4ebff;}#sk-container-id-7 input.sk-hidden--visually {border: 0;clip: rect(1px 1px 1px 1px);clip: rect(1px, 1px, 1px, 1px);height: 1px;margin: -1px;overflow: hidden;padding: 0;position: absolute;width: 1px;}#sk-container-id-7 div.sk-estimator {font-family: monospace;background-color: #f0f8ff;border: 1px dotted black;border-radius: 0.25em;box-sizing: border-box;margin-bottom: 0.5em;}#sk-container-id-7 div.sk-estimator:hover {background-color: #d4ebff;}#sk-container-id-7 div.sk-parallel-item::after {content: \"\";width: 100%;border-bottom: 1px solid gray;flex-grow: 1;}#sk-container-id-7 div.sk-label:hover label.sk-toggleable__label {background-color: #d4ebff;}#sk-container-id-7 div.sk-serial::before {content: \"\";position: absolute;border-left: 1px solid gray;box-sizing: border-box;top: 0;bottom: 0;left: 50%;z-index: 0;}#sk-container-id-7 div.sk-serial {display: flex;flex-direction: column;align-items: center;background-color: white;padding-right: 0.2em;padding-left: 0.2em;position: relative;}#sk-container-id-7 div.sk-item {position: relative;z-index: 1;}#sk-container-id-7 div.sk-parallel {display: flex;align-items: stretch;justify-content: center;background-color: white;position: relative;}#sk-container-id-7 div.sk-item::before, #sk-container-id-7 div.sk-parallel-item::before {content: \"\";position: absolute;border-left: 1px solid gray;box-sizing: border-box;top: 0;bottom: 0;left: 50%;z-index: -1;}#sk-container-id-7 div.sk-parallel-item {display: flex;flex-direction: column;z-index: 1;position: relative;background-color: white;}#sk-container-id-7 div.sk-parallel-item:first-child::after {align-self: flex-end;width: 50%;}#sk-container-id-7 div.sk-parallel-item:last-child::after {align-self: flex-start;width: 50%;}#sk-container-id-7 div.sk-parallel-item:only-child::after {width: 0;}#sk-container-id-7 div.sk-dashed-wrapped {border: 1px dashed gray;margin: 0 0.4em 0.5em 0.4em;box-sizing: border-box;padding-bottom: 0.4em;background-color: white;}#sk-container-id-7 div.sk-label label {font-family: monospace;font-weight: bold;display: inline-block;line-height: 1.2em;}#sk-container-id-7 div.sk-label-container {text-align: center;}#sk-container-id-7 div.sk-container {/* jupyter's `normalize.less` sets `[hidden] { display: none; }` but bootstrap.min.css set `[hidden] { display: none !important; }` so we also need the `!important` here to be able to override the default hidden behavior on the sphinx rendered scikit-learn.org. See: https://github.com/scikit-learn/scikit-learn/issues/21755 */display: inline-block !important;position: relative;}#sk-container-id-7 div.sk-text-repr-fallback {display: none;}</style><div id=\"sk-container-id-7\" class=\"sk-top-container\"><div class=\"sk-text-repr-fallback\"><pre>GridSearchCV(cv=5, estimator=RandomForestRegressor(random_state=13), n_jobs=-1,\n",
       "             param_grid={&#x27;max_depth&#x27;: [12, 15, 18],\n",
       "                         &#x27;min_samples_split&#x27;: [9, 12, 15],\n",
       "                         &#x27;n_estimators&#x27;: [200, 400, 500]},\n",
       "             scoring=&#x27;neg_mean_squared_error&#x27;)</pre><b>In a Jupyter environment, please rerun this cell to show the HTML representation or trust the notebook. <br />On GitHub, the HTML representation is unable to render, please try loading this page with nbviewer.org.</b></div><div class=\"sk-container\" hidden><div class=\"sk-item sk-dashed-wrapped\"><div class=\"sk-label-container\"><div class=\"sk-label sk-toggleable\"><input class=\"sk-toggleable__control sk-hidden--visually\" id=\"sk-estimator-id-17\" type=\"checkbox\" ><label for=\"sk-estimator-id-17\" class=\"sk-toggleable__label sk-toggleable__label-arrow\">GridSearchCV</label><div class=\"sk-toggleable__content\"><pre>GridSearchCV(cv=5, estimator=RandomForestRegressor(random_state=13), n_jobs=-1,\n",
       "             param_grid={&#x27;max_depth&#x27;: [12, 15, 18],\n",
       "                         &#x27;min_samples_split&#x27;: [9, 12, 15],\n",
       "                         &#x27;n_estimators&#x27;: [200, 400, 500]},\n",
       "             scoring=&#x27;neg_mean_squared_error&#x27;)</pre></div></div></div><div class=\"sk-parallel\"><div class=\"sk-parallel-item\"><div class=\"sk-item\"><div class=\"sk-label-container\"><div class=\"sk-label sk-toggleable\"><input class=\"sk-toggleable__control sk-hidden--visually\" id=\"sk-estimator-id-18\" type=\"checkbox\" ><label for=\"sk-estimator-id-18\" class=\"sk-toggleable__label sk-toggleable__label-arrow\">estimator: RandomForestRegressor</label><div class=\"sk-toggleable__content\"><pre>RandomForestRegressor(random_state=13)</pre></div></div></div><div class=\"sk-serial\"><div class=\"sk-item\"><div class=\"sk-estimator sk-toggleable\"><input class=\"sk-toggleable__control sk-hidden--visually\" id=\"sk-estimator-id-19\" type=\"checkbox\" ><label for=\"sk-estimator-id-19\" class=\"sk-toggleable__label sk-toggleable__label-arrow\">RandomForestRegressor</label><div class=\"sk-toggleable__content\"><pre>RandomForestRegressor(random_state=13)</pre></div></div></div></div></div></div></div></div></div></div>"
      ],
      "text/plain": [
       "GridSearchCV(cv=5, estimator=RandomForestRegressor(random_state=13), n_jobs=-1,\n",
       "             param_grid={'max_depth': [12, 15, 18],\n",
       "                         'min_samples_split': [9, 12, 15],\n",
       "                         'n_estimators': [200, 400, 500]},\n",
       "             scoring='neg_mean_squared_error')"
      ]
     },
     "execution_count": 56,
     "metadata": {},
     "output_type": "execute_result"
    }
   ],
   "source": [
    "rfr_cv = GridSearchCV(RFR, param_grid_RFR, cv=5, scoring='neg_mean_squared_error', n_jobs=-1)\n",
    "\n",
    "rfr_cv.fit(X_train, y_train)"
   ]
  },
  {
   "cell_type": "code",
   "execution_count": 57,
   "metadata": {},
   "outputs": [
    {
     "name": "stdout",
     "output_type": "stream",
     "text": [
      "Parameters: {'max_depth': 12, 'min_samples_split': 9, 'n_estimators': 200}, RMSE: 6.2923, Std: 31.3631\n",
      "Parameters: {'max_depth': 12, 'min_samples_split': 9, 'n_estimators': 400}, RMSE: 6.2816, Std: 30.3405\n",
      "Parameters: {'max_depth': 12, 'min_samples_split': 9, 'n_estimators': 500}, RMSE: 6.2981, Std: 30.3837\n",
      "Parameters: {'max_depth': 12, 'min_samples_split': 12, 'n_estimators': 200}, RMSE: 6.9436, Std: 33.7743\n",
      "Parameters: {'max_depth': 12, 'min_samples_split': 12, 'n_estimators': 400}, RMSE: 6.9706, Std: 33.1899\n",
      "Parameters: {'max_depth': 12, 'min_samples_split': 12, 'n_estimators': 500}, RMSE: 6.9851, Std: 33.2212\n",
      "Parameters: {'max_depth': 12, 'min_samples_split': 15, 'n_estimators': 200}, RMSE: 7.8542, Std: 37.7069\n",
      "Parameters: {'max_depth': 12, 'min_samples_split': 15, 'n_estimators': 400}, RMSE: 7.8568, Std: 36.8098\n",
      "Parameters: {'max_depth': 12, 'min_samples_split': 15, 'n_estimators': 500}, RMSE: 7.8785, Std: 36.7732\n",
      "Parameters: {'max_depth': 15, 'min_samples_split': 9, 'n_estimators': 200}, RMSE: 6.3221, Std: 31.6207\n",
      "Parameters: {'max_depth': 15, 'min_samples_split': 9, 'n_estimators': 400}, RMSE: 6.2942, Std: 30.5091\n",
      "Parameters: {'max_depth': 15, 'min_samples_split': 9, 'n_estimators': 500}, RMSE: 6.3113, Std: 30.4917\n",
      "Parameters: {'max_depth': 15, 'min_samples_split': 12, 'n_estimators': 200}, RMSE: 6.9609, Std: 33.8854\n",
      "Parameters: {'max_depth': 15, 'min_samples_split': 12, 'n_estimators': 400}, RMSE: 6.9825, Std: 33.2241\n",
      "Parameters: {'max_depth': 15, 'min_samples_split': 12, 'n_estimators': 500}, RMSE: 6.9918, Std: 33.1356\n",
      "Parameters: {'max_depth': 15, 'min_samples_split': 15, 'n_estimators': 200}, RMSE: 7.8543, Std: 37.8261\n",
      "Parameters: {'max_depth': 15, 'min_samples_split': 15, 'n_estimators': 400}, RMSE: 7.8611, Std: 36.9762\n",
      "Parameters: {'max_depth': 15, 'min_samples_split': 15, 'n_estimators': 500}, RMSE: 7.8864, Std: 37.0130\n",
      "Parameters: {'max_depth': 18, 'min_samples_split': 9, 'n_estimators': 200}, RMSE: 6.3113, Std: 31.4323\n",
      "Parameters: {'max_depth': 18, 'min_samples_split': 9, 'n_estimators': 400}, RMSE: 6.2877, Std: 30.2649\n",
      "Parameters: {'max_depth': 18, 'min_samples_split': 9, 'n_estimators': 500}, RMSE: 6.2980, Std: 30.2894\n",
      "Parameters: {'max_depth': 18, 'min_samples_split': 12, 'n_estimators': 200}, RMSE: 6.9627, Std: 33.9810\n",
      "Parameters: {'max_depth': 18, 'min_samples_split': 12, 'n_estimators': 400}, RMSE: 6.9822, Std: 33.2383\n",
      "Parameters: {'max_depth': 18, 'min_samples_split': 12, 'n_estimators': 500}, RMSE: 6.9928, Std: 33.1568\n",
      "Parameters: {'max_depth': 18, 'min_samples_split': 15, 'n_estimators': 200}, RMSE: 7.8610, Std: 37.9994\n",
      "Parameters: {'max_depth': 18, 'min_samples_split': 15, 'n_estimators': 400}, RMSE: 7.8647, Std: 37.0790\n",
      "Parameters: {'max_depth': 18, 'min_samples_split': 15, 'n_estimators': 500}, RMSE: 7.8895, Std: 37.1202\n",
      "Best RMSE: 6.2816\n"
     ]
    }
   ],
   "source": [
    "results = rfr_cv.cv_results_\n",
    "\n",
    "# Chuyển đổi kết quả thành DataFrame để dễ dàng truy cập\n",
    "df_results = pd.DataFrame(results)\n",
    "\n",
    "# In các tham số và best_score_ cho mỗi cấu hình tham số\n",
    "for index, row in df_results.iterrows():\n",
    "    params = row['params']\n",
    "    mean_test_score = row['mean_test_score']\n",
    "    std_test_score = row['std_test_score']\n",
    "    rmse_score = np.sqrt(-mean_test_score)\n",
    "    print(f\"Parameters: {params}, RMSE: {rmse_score:.4f}, Std: {std_test_score:.4f}\")\n",
    "\n",
    "# In ra best_score_ tổng thể\n",
    "best_rmse = np.sqrt(-1 * rfr_cv.best_score_)\n",
    "print(f\"Best RMSE: {best_rmse:.4f}\")"
   ]
  },
  {
   "cell_type": "code",
   "execution_count": 58,
   "metadata": {},
   "outputs": [
    {
     "data": {
      "text/plain": [
       "{'max_depth': 12, 'min_samples_split': 9, 'n_estimators': 400}"
      ]
     },
     "execution_count": 58,
     "metadata": {},
     "output_type": "execute_result"
    }
   ],
   "source": [
    "rfr_cv.best_params_"
   ]
  },
  {
   "cell_type": "code",
   "execution_count": 59,
   "metadata": {},
   "outputs": [],
   "source": [
    "ridge = Ridge()"
   ]
  },
  {
   "cell_type": "code",
   "execution_count": 60,
   "metadata": {},
   "outputs": [],
   "source": [
    "param_grid_ridge = {\n",
    "    'alpha': [10, 12, 14, 16, 18],\n",
    "    'solver': ['auto', 'svd', 'cholesky', 'lsqr', 'sparse_cg', 'sag']\n",
    "}"
   ]
  },
  {
   "cell_type": "code",
   "execution_count": 61,
   "metadata": {},
   "outputs": [],
   "source": [
    "ridge_cv = GridSearchCV(ridge, param_grid_ridge, cv=5, scoring='neg_mean_squared_error', n_jobs=-1)"
   ]
  },
  {
   "cell_type": "code",
   "execution_count": 62,
   "metadata": {},
   "outputs": [
    {
     "data": {
      "text/html": [
       "<style>#sk-container-id-8 {color: black;background-color: white;}#sk-container-id-8 pre{padding: 0;}#sk-container-id-8 div.sk-toggleable {background-color: white;}#sk-container-id-8 label.sk-toggleable__label {cursor: pointer;display: block;width: 100%;margin-bottom: 0;padding: 0.3em;box-sizing: border-box;text-align: center;}#sk-container-id-8 label.sk-toggleable__label-arrow:before {content: \"▸\";float: left;margin-right: 0.25em;color: #696969;}#sk-container-id-8 label.sk-toggleable__label-arrow:hover:before {color: black;}#sk-container-id-8 div.sk-estimator:hover label.sk-toggleable__label-arrow:before {color: black;}#sk-container-id-8 div.sk-toggleable__content {max-height: 0;max-width: 0;overflow: hidden;text-align: left;background-color: #f0f8ff;}#sk-container-id-8 div.sk-toggleable__content pre {margin: 0.2em;color: black;border-radius: 0.25em;background-color: #f0f8ff;}#sk-container-id-8 input.sk-toggleable__control:checked~div.sk-toggleable__content {max-height: 200px;max-width: 100%;overflow: auto;}#sk-container-id-8 input.sk-toggleable__control:checked~label.sk-toggleable__label-arrow:before {content: \"▾\";}#sk-container-id-8 div.sk-estimator input.sk-toggleable__control:checked~label.sk-toggleable__label {background-color: #d4ebff;}#sk-container-id-8 div.sk-label input.sk-toggleable__control:checked~label.sk-toggleable__label {background-color: #d4ebff;}#sk-container-id-8 input.sk-hidden--visually {border: 0;clip: rect(1px 1px 1px 1px);clip: rect(1px, 1px, 1px, 1px);height: 1px;margin: -1px;overflow: hidden;padding: 0;position: absolute;width: 1px;}#sk-container-id-8 div.sk-estimator {font-family: monospace;background-color: #f0f8ff;border: 1px dotted black;border-radius: 0.25em;box-sizing: border-box;margin-bottom: 0.5em;}#sk-container-id-8 div.sk-estimator:hover {background-color: #d4ebff;}#sk-container-id-8 div.sk-parallel-item::after {content: \"\";width: 100%;border-bottom: 1px solid gray;flex-grow: 1;}#sk-container-id-8 div.sk-label:hover label.sk-toggleable__label {background-color: #d4ebff;}#sk-container-id-8 div.sk-serial::before {content: \"\";position: absolute;border-left: 1px solid gray;box-sizing: border-box;top: 0;bottom: 0;left: 50%;z-index: 0;}#sk-container-id-8 div.sk-serial {display: flex;flex-direction: column;align-items: center;background-color: white;padding-right: 0.2em;padding-left: 0.2em;position: relative;}#sk-container-id-8 div.sk-item {position: relative;z-index: 1;}#sk-container-id-8 div.sk-parallel {display: flex;align-items: stretch;justify-content: center;background-color: white;position: relative;}#sk-container-id-8 div.sk-item::before, #sk-container-id-8 div.sk-parallel-item::before {content: \"\";position: absolute;border-left: 1px solid gray;box-sizing: border-box;top: 0;bottom: 0;left: 50%;z-index: -1;}#sk-container-id-8 div.sk-parallel-item {display: flex;flex-direction: column;z-index: 1;position: relative;background-color: white;}#sk-container-id-8 div.sk-parallel-item:first-child::after {align-self: flex-end;width: 50%;}#sk-container-id-8 div.sk-parallel-item:last-child::after {align-self: flex-start;width: 50%;}#sk-container-id-8 div.sk-parallel-item:only-child::after {width: 0;}#sk-container-id-8 div.sk-dashed-wrapped {border: 1px dashed gray;margin: 0 0.4em 0.5em 0.4em;box-sizing: border-box;padding-bottom: 0.4em;background-color: white;}#sk-container-id-8 div.sk-label label {font-family: monospace;font-weight: bold;display: inline-block;line-height: 1.2em;}#sk-container-id-8 div.sk-label-container {text-align: center;}#sk-container-id-8 div.sk-container {/* jupyter's `normalize.less` sets `[hidden] { display: none; }` but bootstrap.min.css set `[hidden] { display: none !important; }` so we also need the `!important` here to be able to override the default hidden behavior on the sphinx rendered scikit-learn.org. See: https://github.com/scikit-learn/scikit-learn/issues/21755 */display: inline-block !important;position: relative;}#sk-container-id-8 div.sk-text-repr-fallback {display: none;}</style><div id=\"sk-container-id-8\" class=\"sk-top-container\"><div class=\"sk-text-repr-fallback\"><pre>GridSearchCV(cv=5, estimator=Ridge(), n_jobs=-1,\n",
       "             param_grid={&#x27;alpha&#x27;: [10, 12, 14, 16, 18],\n",
       "                         &#x27;solver&#x27;: [&#x27;auto&#x27;, &#x27;svd&#x27;, &#x27;cholesky&#x27;, &#x27;lsqr&#x27;,\n",
       "                                    &#x27;sparse_cg&#x27;, &#x27;sag&#x27;]},\n",
       "             scoring=&#x27;neg_mean_squared_error&#x27;)</pre><b>In a Jupyter environment, please rerun this cell to show the HTML representation or trust the notebook. <br />On GitHub, the HTML representation is unable to render, please try loading this page with nbviewer.org.</b></div><div class=\"sk-container\" hidden><div class=\"sk-item sk-dashed-wrapped\"><div class=\"sk-label-container\"><div class=\"sk-label sk-toggleable\"><input class=\"sk-toggleable__control sk-hidden--visually\" id=\"sk-estimator-id-20\" type=\"checkbox\" ><label for=\"sk-estimator-id-20\" class=\"sk-toggleable__label sk-toggleable__label-arrow\">GridSearchCV</label><div class=\"sk-toggleable__content\"><pre>GridSearchCV(cv=5, estimator=Ridge(), n_jobs=-1,\n",
       "             param_grid={&#x27;alpha&#x27;: [10, 12, 14, 16, 18],\n",
       "                         &#x27;solver&#x27;: [&#x27;auto&#x27;, &#x27;svd&#x27;, &#x27;cholesky&#x27;, &#x27;lsqr&#x27;,\n",
       "                                    &#x27;sparse_cg&#x27;, &#x27;sag&#x27;]},\n",
       "             scoring=&#x27;neg_mean_squared_error&#x27;)</pre></div></div></div><div class=\"sk-parallel\"><div class=\"sk-parallel-item\"><div class=\"sk-item\"><div class=\"sk-label-container\"><div class=\"sk-label sk-toggleable\"><input class=\"sk-toggleable__control sk-hidden--visually\" id=\"sk-estimator-id-21\" type=\"checkbox\" ><label for=\"sk-estimator-id-21\" class=\"sk-toggleable__label sk-toggleable__label-arrow\">estimator: Ridge</label><div class=\"sk-toggleable__content\"><pre>Ridge()</pre></div></div></div><div class=\"sk-serial\"><div class=\"sk-item\"><div class=\"sk-estimator sk-toggleable\"><input class=\"sk-toggleable__control sk-hidden--visually\" id=\"sk-estimator-id-22\" type=\"checkbox\" ><label for=\"sk-estimator-id-22\" class=\"sk-toggleable__label sk-toggleable__label-arrow\">Ridge</label><div class=\"sk-toggleable__content\"><pre>Ridge()</pre></div></div></div></div></div></div></div></div></div></div>"
      ],
      "text/plain": [
       "GridSearchCV(cv=5, estimator=Ridge(), n_jobs=-1,\n",
       "             param_grid={'alpha': [10, 12, 14, 16, 18],\n",
       "                         'solver': ['auto', 'svd', 'cholesky', 'lsqr',\n",
       "                                    'sparse_cg', 'sag']},\n",
       "             scoring='neg_mean_squared_error')"
      ]
     },
     "execution_count": 62,
     "metadata": {},
     "output_type": "execute_result"
    }
   ],
   "source": [
    "ridge_cv.fit(X_train, y_train)"
   ]
  },
  {
   "cell_type": "code",
   "execution_count": 64,
   "metadata": {},
   "outputs": [
    {
     "name": "stdout",
     "output_type": "stream",
     "text": [
      "    mean_test_score  std_test_score param_alpha param_solver\n",
      "0       -123.583779       36.630259          10         auto\n",
      "1       -123.583779       36.630259          10          svd\n",
      "2       -123.583779       36.630259          10     cholesky\n",
      "3       -123.572141       36.643722          10         lsqr\n",
      "4       -123.571509       36.644454          10    sparse_cg\n",
      "5       -126.512701       40.906456          10          sag\n",
      "6       -123.582032       36.653003          12         auto\n",
      "7       -123.582032       36.653003          12          svd\n",
      "8       -123.582032       36.653003          12     cholesky\n",
      "9       -123.570448       36.666399          12         lsqr\n",
      "10      -123.569689       36.667277          12    sparse_cg\n",
      "11      -126.512765       40.907332          12          sag\n",
      "12      -123.580452       36.675572          14         auto\n",
      "13      -123.580452       36.675572          14          svd\n",
      "14      -123.580452       36.675572          14     cholesky\n",
      "15      -123.568922       36.688901          14         lsqr\n",
      "16      -123.549520       36.710235          14    sparse_cg\n",
      "17      -126.513101       40.907562          14          sag\n",
      "18      -123.579037       36.697968          16         auto\n",
      "19      -123.579037       36.697968          16          svd\n",
      "20      -123.579037       36.697968          16     cholesky\n",
      "21      -123.567559       36.711230          16         lsqr\n",
      "22      -123.548593       36.732094          16    sparse_cg\n",
      "23      -126.514784       40.909426          16          sag\n",
      "24      -123.577783       36.720192          18         auto\n",
      "25      -123.577783       36.720192          18          svd\n",
      "26      -123.577783       36.720192          18     cholesky\n",
      "27      -123.566356       36.733389          18         lsqr\n",
      "28      -123.547914       36.753681          18    sparse_cg\n",
      "29      -126.514011       40.907593          18          sag\n",
      "Best parameters found: {'alpha': 18, 'solver': 'sparse_cg'}\n",
      "Best mean squared error: 11.1152\n"
     ]
    }
   ],
   "source": [
    "# Lấy kết quả của mỗi lần thử\n",
    "results = ridge_cv.cv_results_\n",
    "\n",
    "# Chuyển đổi kết quả thành DataFrame để dễ dàng hiển thị\n",
    "results_df = pd.DataFrame(results)\n",
    "\n",
    "# In ra các cột quan trọng\n",
    "print(results_df[['mean_test_score', 'std_test_score', 'param_alpha', 'param_solver']])\n",
    "\n",
    "# In ra mô hình tốt nhất và các tham số tương ứng\n",
    "print(f\"Best parameters found: {ridge_cv.best_params_}\")\n",
    "print(f\"Best mean squared error: {np.sqrt(-ridge_cv.best_score_):.4f}\")"
   ]
  },
  {
   "cell_type": "code",
   "execution_count": 65,
   "metadata": {},
   "outputs": [],
   "source": [
    "GBR = GradientBoostingRegressor()"
   ]
  },
  {
   "cell_type": "code",
   "execution_count": 66,
   "metadata": {},
   "outputs": [],
   "source": [
    "param_grid_GBR = {\n",
    "    'max_depth': [12, 15],\n",
    "    'n_estimators': [100, 200],\n",
    "    'min_samples_leaf': [10, 15],\n",
    "    'learning_rate': [0.001, 0.01, 0.1],\n",
    "    'max_features': [0.01, 0.1]\n",
    "}"
   ]
  },
  {
   "cell_type": "code",
   "execution_count": 67,
   "metadata": {},
   "outputs": [],
   "source": [
    "GBR_cv = GridSearchCV(GBR, param_grid_GBR, cv=5, scoring='neg_mean_squared_error', n_jobs=-1)"
   ]
  },
  {
   "cell_type": "code",
   "execution_count": 68,
   "metadata": {},
   "outputs": [
    {
     "data": {
      "text/html": [
       "<style>#sk-container-id-9 {color: black;background-color: white;}#sk-container-id-9 pre{padding: 0;}#sk-container-id-9 div.sk-toggleable {background-color: white;}#sk-container-id-9 label.sk-toggleable__label {cursor: pointer;display: block;width: 100%;margin-bottom: 0;padding: 0.3em;box-sizing: border-box;text-align: center;}#sk-container-id-9 label.sk-toggleable__label-arrow:before {content: \"▸\";float: left;margin-right: 0.25em;color: #696969;}#sk-container-id-9 label.sk-toggleable__label-arrow:hover:before {color: black;}#sk-container-id-9 div.sk-estimator:hover label.sk-toggleable__label-arrow:before {color: black;}#sk-container-id-9 div.sk-toggleable__content {max-height: 0;max-width: 0;overflow: hidden;text-align: left;background-color: #f0f8ff;}#sk-container-id-9 div.sk-toggleable__content pre {margin: 0.2em;color: black;border-radius: 0.25em;background-color: #f0f8ff;}#sk-container-id-9 input.sk-toggleable__control:checked~div.sk-toggleable__content {max-height: 200px;max-width: 100%;overflow: auto;}#sk-container-id-9 input.sk-toggleable__control:checked~label.sk-toggleable__label-arrow:before {content: \"▾\";}#sk-container-id-9 div.sk-estimator input.sk-toggleable__control:checked~label.sk-toggleable__label {background-color: #d4ebff;}#sk-container-id-9 div.sk-label input.sk-toggleable__control:checked~label.sk-toggleable__label {background-color: #d4ebff;}#sk-container-id-9 input.sk-hidden--visually {border: 0;clip: rect(1px 1px 1px 1px);clip: rect(1px, 1px, 1px, 1px);height: 1px;margin: -1px;overflow: hidden;padding: 0;position: absolute;width: 1px;}#sk-container-id-9 div.sk-estimator {font-family: monospace;background-color: #f0f8ff;border: 1px dotted black;border-radius: 0.25em;box-sizing: border-box;margin-bottom: 0.5em;}#sk-container-id-9 div.sk-estimator:hover {background-color: #d4ebff;}#sk-container-id-9 div.sk-parallel-item::after {content: \"\";width: 100%;border-bottom: 1px solid gray;flex-grow: 1;}#sk-container-id-9 div.sk-label:hover label.sk-toggleable__label {background-color: #d4ebff;}#sk-container-id-9 div.sk-serial::before {content: \"\";position: absolute;border-left: 1px solid gray;box-sizing: border-box;top: 0;bottom: 0;left: 50%;z-index: 0;}#sk-container-id-9 div.sk-serial {display: flex;flex-direction: column;align-items: center;background-color: white;padding-right: 0.2em;padding-left: 0.2em;position: relative;}#sk-container-id-9 div.sk-item {position: relative;z-index: 1;}#sk-container-id-9 div.sk-parallel {display: flex;align-items: stretch;justify-content: center;background-color: white;position: relative;}#sk-container-id-9 div.sk-item::before, #sk-container-id-9 div.sk-parallel-item::before {content: \"\";position: absolute;border-left: 1px solid gray;box-sizing: border-box;top: 0;bottom: 0;left: 50%;z-index: -1;}#sk-container-id-9 div.sk-parallel-item {display: flex;flex-direction: column;z-index: 1;position: relative;background-color: white;}#sk-container-id-9 div.sk-parallel-item:first-child::after {align-self: flex-end;width: 50%;}#sk-container-id-9 div.sk-parallel-item:last-child::after {align-self: flex-start;width: 50%;}#sk-container-id-9 div.sk-parallel-item:only-child::after {width: 0;}#sk-container-id-9 div.sk-dashed-wrapped {border: 1px dashed gray;margin: 0 0.4em 0.5em 0.4em;box-sizing: border-box;padding-bottom: 0.4em;background-color: white;}#sk-container-id-9 div.sk-label label {font-family: monospace;font-weight: bold;display: inline-block;line-height: 1.2em;}#sk-container-id-9 div.sk-label-container {text-align: center;}#sk-container-id-9 div.sk-container {/* jupyter's `normalize.less` sets `[hidden] { display: none; }` but bootstrap.min.css set `[hidden] { display: none !important; }` so we also need the `!important` here to be able to override the default hidden behavior on the sphinx rendered scikit-learn.org. See: https://github.com/scikit-learn/scikit-learn/issues/21755 */display: inline-block !important;position: relative;}#sk-container-id-9 div.sk-text-repr-fallback {display: none;}</style><div id=\"sk-container-id-9\" class=\"sk-top-container\"><div class=\"sk-text-repr-fallback\"><pre>GridSearchCV(cv=5, estimator=GradientBoostingRegressor(), n_jobs=-1,\n",
       "             param_grid={&#x27;learning_rate&#x27;: [0.001, 0.01, 0.1],\n",
       "                         &#x27;max_depth&#x27;: [12, 15], &#x27;max_features&#x27;: [0.01, 0.1],\n",
       "                         &#x27;min_samples_leaf&#x27;: [10, 15],\n",
       "                         &#x27;n_estimators&#x27;: [100, 200]},\n",
       "             scoring=&#x27;neg_mean_squared_error&#x27;)</pre><b>In a Jupyter environment, please rerun this cell to show the HTML representation or trust the notebook. <br />On GitHub, the HTML representation is unable to render, please try loading this page with nbviewer.org.</b></div><div class=\"sk-container\" hidden><div class=\"sk-item sk-dashed-wrapped\"><div class=\"sk-label-container\"><div class=\"sk-label sk-toggleable\"><input class=\"sk-toggleable__control sk-hidden--visually\" id=\"sk-estimator-id-23\" type=\"checkbox\" ><label for=\"sk-estimator-id-23\" class=\"sk-toggleable__label sk-toggleable__label-arrow\">GridSearchCV</label><div class=\"sk-toggleable__content\"><pre>GridSearchCV(cv=5, estimator=GradientBoostingRegressor(), n_jobs=-1,\n",
       "             param_grid={&#x27;learning_rate&#x27;: [0.001, 0.01, 0.1],\n",
       "                         &#x27;max_depth&#x27;: [12, 15], &#x27;max_features&#x27;: [0.01, 0.1],\n",
       "                         &#x27;min_samples_leaf&#x27;: [10, 15],\n",
       "                         &#x27;n_estimators&#x27;: [100, 200]},\n",
       "             scoring=&#x27;neg_mean_squared_error&#x27;)</pre></div></div></div><div class=\"sk-parallel\"><div class=\"sk-parallel-item\"><div class=\"sk-item\"><div class=\"sk-label-container\"><div class=\"sk-label sk-toggleable\"><input class=\"sk-toggleable__control sk-hidden--visually\" id=\"sk-estimator-id-24\" type=\"checkbox\" ><label for=\"sk-estimator-id-24\" class=\"sk-toggleable__label sk-toggleable__label-arrow\">estimator: GradientBoostingRegressor</label><div class=\"sk-toggleable__content\"><pre>GradientBoostingRegressor()</pre></div></div></div><div class=\"sk-serial\"><div class=\"sk-item\"><div class=\"sk-estimator sk-toggleable\"><input class=\"sk-toggleable__control sk-hidden--visually\" id=\"sk-estimator-id-25\" type=\"checkbox\" ><label for=\"sk-estimator-id-25\" class=\"sk-toggleable__label sk-toggleable__label-arrow\">GradientBoostingRegressor</label><div class=\"sk-toggleable__content\"><pre>GradientBoostingRegressor()</pre></div></div></div></div></div></div></div></div></div></div>"
      ],
      "text/plain": [
       "GridSearchCV(cv=5, estimator=GradientBoostingRegressor(), n_jobs=-1,\n",
       "             param_grid={'learning_rate': [0.001, 0.01, 0.1],\n",
       "                         'max_depth': [12, 15], 'max_features': [0.01, 0.1],\n",
       "                         'min_samples_leaf': [10, 15],\n",
       "                         'n_estimators': [100, 200]},\n",
       "             scoring='neg_mean_squared_error')"
      ]
     },
     "execution_count": 68,
     "metadata": {},
     "output_type": "execute_result"
    }
   ],
   "source": [
    "GBR_cv.fit(X_train, y_train)"
   ]
  },
  {
   "cell_type": "code",
   "execution_count": 69,
   "metadata": {},
   "outputs": [
    {
     "name": "stdout",
     "output_type": "stream",
     "text": [
      "    mean_test_score  std_test_score param_max_depth param_n_estimators  \\\n",
      "0       -441.216087      120.576507              12                100   \n",
      "1       -386.946963      112.598040              12                200   \n",
      "2       -443.818835      120.943619              12                100   \n",
      "3       -391.861120      114.055381              12                200   \n",
      "4       -441.300958      120.428758              12                100   \n",
      "5       -386.690472      112.956934              12                200   \n",
      "6       -443.935606      121.612360              12                100   \n",
      "7       -392.014796      114.171720              12                200   \n",
      "8       -441.375269      120.499757              15                100   \n",
      "9       -386.936037      113.102094              15                200   \n",
      "10      -444.067652      121.424640              15                100   \n",
      "11      -391.879706      114.361567              15                200   \n",
      "12      -441.012779      119.787042              15                100   \n",
      "13      -387.611256      113.562127              15                200   \n",
      "14      -443.713935      120.730909              15                100   \n",
      "15      -391.771775      114.546812              15                200   \n",
      "16      -165.717415       76.293577              12                100   \n",
      "17       -90.706442       60.696982              12                200   \n",
      "18      -177.277759       81.723661              12                100   \n",
      "19       -99.315533       63.411479              12                200   \n",
      "20      -165.983845       78.690604              12                100   \n",
      "21       -90.180902       58.445533              12                200   \n",
      "22      -173.046717       79.483825              12                100   \n",
      "23      -102.443538       63.343730              12                200   \n",
      "24      -163.784998       75.663688              15                100   \n",
      "25       -92.371867       60.337736              15                200   \n",
      "26      -175.352939       81.284778              15                100   \n",
      "27      -102.825009       66.559428              15                200   \n",
      "28      -166.281840       77.588815              15                100   \n",
      "29       -92.414161       58.962441              15                200   \n",
      "30      -175.541263       79.908128              15                100   \n",
      "31      -101.891011       66.417010              15                200   \n",
      "32       -50.347994       37.863023              12                100   \n",
      "33       -46.917625       33.782025              12                200   \n",
      "34       -57.437424       41.155925              12                100   \n",
      "35       -49.157351       34.457047              12                200   \n",
      "36       -51.057719       36.581775              12                100   \n",
      "37       -46.179061       31.775762              12                200   \n",
      "38       -54.830558       40.138422              12                100   \n",
      "39       -51.203104       40.565961              12                200   \n",
      "40       -50.282193       36.976667              15                100   \n",
      "41       -42.878464       31.317489              15                200   \n",
      "42       -55.169709       42.906961              15                100   \n",
      "43       -48.992606       36.057171              15                200   \n",
      "44       -46.301986       35.162096              15                100   \n",
      "45       -44.283678       34.038494              15                200   \n",
      "46       -55.044737       41.374465              15                100   \n",
      "47       -49.039323       35.674992              15                200   \n",
      "\n",
      "   param_min_samples_leaf param_learning_rate param_max_features  \n",
      "0                      10               0.001               0.01  \n",
      "1                      10               0.001               0.01  \n",
      "2                      15               0.001               0.01  \n",
      "3                      15               0.001               0.01  \n",
      "4                      10               0.001                0.1  \n",
      "5                      10               0.001                0.1  \n",
      "6                      15               0.001                0.1  \n",
      "7                      15               0.001                0.1  \n",
      "8                      10               0.001               0.01  \n",
      "9                      10               0.001               0.01  \n",
      "10                     15               0.001               0.01  \n",
      "11                     15               0.001               0.01  \n",
      "12                     10               0.001                0.1  \n",
      "13                     10               0.001                0.1  \n",
      "14                     15               0.001                0.1  \n",
      "15                     15               0.001                0.1  \n",
      "16                     10                0.01               0.01  \n",
      "17                     10                0.01               0.01  \n",
      "18                     15                0.01               0.01  \n",
      "19                     15                0.01               0.01  \n",
      "20                     10                0.01                0.1  \n",
      "21                     10                0.01                0.1  \n",
      "22                     15                0.01                0.1  \n",
      "23                     15                0.01                0.1  \n",
      "24                     10                0.01               0.01  \n",
      "25                     10                0.01               0.01  \n",
      "26                     15                0.01               0.01  \n",
      "27                     15                0.01               0.01  \n",
      "28                     10                0.01                0.1  \n",
      "29                     10                0.01                0.1  \n",
      "30                     15                0.01                0.1  \n",
      "31                     15                0.01                0.1  \n",
      "32                     10                 0.1               0.01  \n",
      "33                     10                 0.1               0.01  \n",
      "34                     15                 0.1               0.01  \n",
      "35                     15                 0.1               0.01  \n",
      "36                     10                 0.1                0.1  \n",
      "37                     10                 0.1                0.1  \n",
      "38                     15                 0.1                0.1  \n",
      "39                     15                 0.1                0.1  \n",
      "40                     10                 0.1               0.01  \n",
      "41                     10                 0.1               0.01  \n",
      "42                     15                 0.1               0.01  \n",
      "43                     15                 0.1               0.01  \n",
      "44                     10                 0.1                0.1  \n",
      "45                     10                 0.1                0.1  \n",
      "46                     15                 0.1                0.1  \n",
      "47                     15                 0.1                0.1  \n",
      "Best parameters found: {'learning_rate': 0.1, 'max_depth': 15, 'max_features': 0.01, 'min_samples_leaf': 10, 'n_estimators': 200}\n",
      "Best RMSE: 6.5482\n"
     ]
    }
   ],
   "source": [
    "# Lấy kết quả của mỗi lần thử\n",
    "results = GBR_cv.cv_results_\n",
    "\n",
    "# Chuyển đổi kết quả thành DataFrame để dễ dàng hiển thị\n",
    "results_df = pd.DataFrame(results)\n",
    "\n",
    "# In ra các cột quan trọng\n",
    "print(results_df[['mean_test_score', 'std_test_score', 'param_max_depth', 'param_n_estimators', \n",
    "                  'param_min_samples_leaf', 'param_learning_rate', 'param_max_features']])\n",
    "\n",
    "# In ra mô hình tốt nhất và các tham số tương ứng\n",
    "print(f\"Best parameters found: {GBR_cv.best_params_}\")\n",
    "print(f\"Best RMSE: {np.sqrt(-GBR_cv.best_score_):.4f}\")"
   ]
  },
  {
   "cell_type": "code",
   "execution_count": 89,
   "metadata": {},
   "outputs": [],
   "source": [
    "# Tạo mô hình VotingRegressor kết hợp cả hai mô hình GradientBoostingRegressor và RandomForestRegressor\n",
    "voting_regressor = VotingRegressor(estimators=[('gbr', GBR_cv.best_estimator_), ('rfr', rfr_cv.best_estimator_)],\n",
    "                                   weights=[1,3])"
   ]
  },
  {
   "cell_type": "code",
   "execution_count": 90,
   "metadata": {},
   "outputs": [
    {
     "data": {
      "text/html": [
       "<style>#sk-container-id-14 {color: black;background-color: white;}#sk-container-id-14 pre{padding: 0;}#sk-container-id-14 div.sk-toggleable {background-color: white;}#sk-container-id-14 label.sk-toggleable__label {cursor: pointer;display: block;width: 100%;margin-bottom: 0;padding: 0.3em;box-sizing: border-box;text-align: center;}#sk-container-id-14 label.sk-toggleable__label-arrow:before {content: \"▸\";float: left;margin-right: 0.25em;color: #696969;}#sk-container-id-14 label.sk-toggleable__label-arrow:hover:before {color: black;}#sk-container-id-14 div.sk-estimator:hover label.sk-toggleable__label-arrow:before {color: black;}#sk-container-id-14 div.sk-toggleable__content {max-height: 0;max-width: 0;overflow: hidden;text-align: left;background-color: #f0f8ff;}#sk-container-id-14 div.sk-toggleable__content pre {margin: 0.2em;color: black;border-radius: 0.25em;background-color: #f0f8ff;}#sk-container-id-14 input.sk-toggleable__control:checked~div.sk-toggleable__content {max-height: 200px;max-width: 100%;overflow: auto;}#sk-container-id-14 input.sk-toggleable__control:checked~label.sk-toggleable__label-arrow:before {content: \"▾\";}#sk-container-id-14 div.sk-estimator input.sk-toggleable__control:checked~label.sk-toggleable__label {background-color: #d4ebff;}#sk-container-id-14 div.sk-label input.sk-toggleable__control:checked~label.sk-toggleable__label {background-color: #d4ebff;}#sk-container-id-14 input.sk-hidden--visually {border: 0;clip: rect(1px 1px 1px 1px);clip: rect(1px, 1px, 1px, 1px);height: 1px;margin: -1px;overflow: hidden;padding: 0;position: absolute;width: 1px;}#sk-container-id-14 div.sk-estimator {font-family: monospace;background-color: #f0f8ff;border: 1px dotted black;border-radius: 0.25em;box-sizing: border-box;margin-bottom: 0.5em;}#sk-container-id-14 div.sk-estimator:hover {background-color: #d4ebff;}#sk-container-id-14 div.sk-parallel-item::after {content: \"\";width: 100%;border-bottom: 1px solid gray;flex-grow: 1;}#sk-container-id-14 div.sk-label:hover label.sk-toggleable__label {background-color: #d4ebff;}#sk-container-id-14 div.sk-serial::before {content: \"\";position: absolute;border-left: 1px solid gray;box-sizing: border-box;top: 0;bottom: 0;left: 50%;z-index: 0;}#sk-container-id-14 div.sk-serial {display: flex;flex-direction: column;align-items: center;background-color: white;padding-right: 0.2em;padding-left: 0.2em;position: relative;}#sk-container-id-14 div.sk-item {position: relative;z-index: 1;}#sk-container-id-14 div.sk-parallel {display: flex;align-items: stretch;justify-content: center;background-color: white;position: relative;}#sk-container-id-14 div.sk-item::before, #sk-container-id-14 div.sk-parallel-item::before {content: \"\";position: absolute;border-left: 1px solid gray;box-sizing: border-box;top: 0;bottom: 0;left: 50%;z-index: -1;}#sk-container-id-14 div.sk-parallel-item {display: flex;flex-direction: column;z-index: 1;position: relative;background-color: white;}#sk-container-id-14 div.sk-parallel-item:first-child::after {align-self: flex-end;width: 50%;}#sk-container-id-14 div.sk-parallel-item:last-child::after {align-self: flex-start;width: 50%;}#sk-container-id-14 div.sk-parallel-item:only-child::after {width: 0;}#sk-container-id-14 div.sk-dashed-wrapped {border: 1px dashed gray;margin: 0 0.4em 0.5em 0.4em;box-sizing: border-box;padding-bottom: 0.4em;background-color: white;}#sk-container-id-14 div.sk-label label {font-family: monospace;font-weight: bold;display: inline-block;line-height: 1.2em;}#sk-container-id-14 div.sk-label-container {text-align: center;}#sk-container-id-14 div.sk-container {/* jupyter's `normalize.less` sets `[hidden] { display: none; }` but bootstrap.min.css set `[hidden] { display: none !important; }` so we also need the `!important` here to be able to override the default hidden behavior on the sphinx rendered scikit-learn.org. See: https://github.com/scikit-learn/scikit-learn/issues/21755 */display: inline-block !important;position: relative;}#sk-container-id-14 div.sk-text-repr-fallback {display: none;}</style><div id=\"sk-container-id-14\" class=\"sk-top-container\"><div class=\"sk-text-repr-fallback\"><pre>VotingRegressor(estimators=[(&#x27;gbr&#x27;,\n",
       "                             GradientBoostingRegressor(max_depth=15,\n",
       "                                                       max_features=0.01,\n",
       "                                                       min_samples_leaf=10,\n",
       "                                                       n_estimators=200)),\n",
       "                            (&#x27;rfr&#x27;,\n",
       "                             RandomForestRegressor(max_depth=12,\n",
       "                                                   min_samples_split=9,\n",
       "                                                   n_estimators=400,\n",
       "                                                   random_state=13))],\n",
       "                weights=[1, 3])</pre><b>In a Jupyter environment, please rerun this cell to show the HTML representation or trust the notebook. <br />On GitHub, the HTML representation is unable to render, please try loading this page with nbviewer.org.</b></div><div class=\"sk-container\" hidden><div class=\"sk-item sk-dashed-wrapped\"><div class=\"sk-label-container\"><div class=\"sk-label sk-toggleable\"><input class=\"sk-toggleable__control sk-hidden--visually\" id=\"sk-estimator-id-38\" type=\"checkbox\" ><label for=\"sk-estimator-id-38\" class=\"sk-toggleable__label sk-toggleable__label-arrow\">VotingRegressor</label><div class=\"sk-toggleable__content\"><pre>VotingRegressor(estimators=[(&#x27;gbr&#x27;,\n",
       "                             GradientBoostingRegressor(max_depth=15,\n",
       "                                                       max_features=0.01,\n",
       "                                                       min_samples_leaf=10,\n",
       "                                                       n_estimators=200)),\n",
       "                            (&#x27;rfr&#x27;,\n",
       "                             RandomForestRegressor(max_depth=12,\n",
       "                                                   min_samples_split=9,\n",
       "                                                   n_estimators=400,\n",
       "                                                   random_state=13))],\n",
       "                weights=[1, 3])</pre></div></div></div><div class=\"sk-parallel\"><div class=\"sk-parallel-item\"><div class=\"sk-item\"><div class=\"sk-label-container\"><div class=\"sk-label sk-toggleable\"><label>gbr</label></div></div><div class=\"sk-serial\"><div class=\"sk-item\"><div class=\"sk-estimator sk-toggleable\"><input class=\"sk-toggleable__control sk-hidden--visually\" id=\"sk-estimator-id-39\" type=\"checkbox\" ><label for=\"sk-estimator-id-39\" class=\"sk-toggleable__label sk-toggleable__label-arrow\">GradientBoostingRegressor</label><div class=\"sk-toggleable__content\"><pre>GradientBoostingRegressor(max_depth=15, max_features=0.01, min_samples_leaf=10,\n",
       "                          n_estimators=200)</pre></div></div></div></div></div></div><div class=\"sk-parallel-item\"><div class=\"sk-item\"><div class=\"sk-label-container\"><div class=\"sk-label sk-toggleable\"><label>rfr</label></div></div><div class=\"sk-serial\"><div class=\"sk-item\"><div class=\"sk-estimator sk-toggleable\"><input class=\"sk-toggleable__control sk-hidden--visually\" id=\"sk-estimator-id-40\" type=\"checkbox\" ><label for=\"sk-estimator-id-40\" class=\"sk-toggleable__label sk-toggleable__label-arrow\">RandomForestRegressor</label><div class=\"sk-toggleable__content\"><pre>RandomForestRegressor(max_depth=12, min_samples_split=9, n_estimators=400,\n",
       "                      random_state=13)</pre></div></div></div></div></div></div></div></div></div></div>"
      ],
      "text/plain": [
       "VotingRegressor(estimators=[('gbr',\n",
       "                             GradientBoostingRegressor(max_depth=15,\n",
       "                                                       max_features=0.01,\n",
       "                                                       min_samples_leaf=10,\n",
       "                                                       n_estimators=200)),\n",
       "                            ('rfr',\n",
       "                             RandomForestRegressor(max_depth=12,\n",
       "                                                   min_samples_split=9,\n",
       "                                                   n_estimators=400,\n",
       "                                                   random_state=13))],\n",
       "                weights=[1, 3])"
      ]
     },
     "execution_count": 90,
     "metadata": {},
     "output_type": "execute_result"
    }
   ],
   "source": [
    "voting_regressor.fit(X_train, y_train)"
   ]
  },
  {
   "cell_type": "code",
   "execution_count": 91,
   "metadata": {},
   "outputs": [],
   "source": [
    "# Dự đoán trên tập kiểm tra\n",
    "y_pred = voting_regressor.predict(X_test)"
   ]
  },
  {
   "cell_type": "code",
   "execution_count": 92,
   "metadata": {},
   "outputs": [
    {
     "name": "stdout",
     "output_type": "stream",
     "text": [
      "Root Mean Squared Error of Voting Regressor: 3.1054\n"
     ]
    }
   ],
   "source": [
    "# Tính toán lỗi trung bình bình phương\n",
    "rmse = np.sqrt(mean_squared_error(y_test, y_pred))\n",
    "print(f'Root Mean Squared Error of Voting Regressor: {rmse:.4f}')"
   ]
  },
  {
   "cell_type": "code",
   "execution_count": 94,
   "metadata": {},
   "outputs": [],
   "source": [
    "from sklearn.ensemble import AdaBoostRegressor"
   ]
  },
  {
   "cell_type": "code",
   "execution_count": 95,
   "metadata": {},
   "outputs": [],
   "source": [
    "ada_boost_gbr = AdaBoostRegressor(base_estimator=GBR_cv.best_estimator_, n_estimators=50, random_state=42)"
   ]
  },
  {
   "cell_type": "code",
   "execution_count": 97,
   "metadata": {},
   "outputs": [
    {
     "name": "stderr",
     "output_type": "stream",
     "text": [
      "C:\\Users\\Admin\\AppData\\Local\\Packages\\PythonSoftwareFoundation.Python.3.10_qbz5n2kfra8p0\\LocalCache\\local-packages\\Python310\\site-packages\\sklearn\\ensemble\\_base.py:166: FutureWarning: `base_estimator` was renamed to `estimator` in version 1.2 and will be removed in 1.4.\n",
      "  warnings.warn(\n"
     ]
    },
    {
     "data": {
      "text/html": [
       "<style>#sk-container-id-15 {color: black;background-color: white;}#sk-container-id-15 pre{padding: 0;}#sk-container-id-15 div.sk-toggleable {background-color: white;}#sk-container-id-15 label.sk-toggleable__label {cursor: pointer;display: block;width: 100%;margin-bottom: 0;padding: 0.3em;box-sizing: border-box;text-align: center;}#sk-container-id-15 label.sk-toggleable__label-arrow:before {content: \"▸\";float: left;margin-right: 0.25em;color: #696969;}#sk-container-id-15 label.sk-toggleable__label-arrow:hover:before {color: black;}#sk-container-id-15 div.sk-estimator:hover label.sk-toggleable__label-arrow:before {color: black;}#sk-container-id-15 div.sk-toggleable__content {max-height: 0;max-width: 0;overflow: hidden;text-align: left;background-color: #f0f8ff;}#sk-container-id-15 div.sk-toggleable__content pre {margin: 0.2em;color: black;border-radius: 0.25em;background-color: #f0f8ff;}#sk-container-id-15 input.sk-toggleable__control:checked~div.sk-toggleable__content {max-height: 200px;max-width: 100%;overflow: auto;}#sk-container-id-15 input.sk-toggleable__control:checked~label.sk-toggleable__label-arrow:before {content: \"▾\";}#sk-container-id-15 div.sk-estimator input.sk-toggleable__control:checked~label.sk-toggleable__label {background-color: #d4ebff;}#sk-container-id-15 div.sk-label input.sk-toggleable__control:checked~label.sk-toggleable__label {background-color: #d4ebff;}#sk-container-id-15 input.sk-hidden--visually {border: 0;clip: rect(1px 1px 1px 1px);clip: rect(1px, 1px, 1px, 1px);height: 1px;margin: -1px;overflow: hidden;padding: 0;position: absolute;width: 1px;}#sk-container-id-15 div.sk-estimator {font-family: monospace;background-color: #f0f8ff;border: 1px dotted black;border-radius: 0.25em;box-sizing: border-box;margin-bottom: 0.5em;}#sk-container-id-15 div.sk-estimator:hover {background-color: #d4ebff;}#sk-container-id-15 div.sk-parallel-item::after {content: \"\";width: 100%;border-bottom: 1px solid gray;flex-grow: 1;}#sk-container-id-15 div.sk-label:hover label.sk-toggleable__label {background-color: #d4ebff;}#sk-container-id-15 div.sk-serial::before {content: \"\";position: absolute;border-left: 1px solid gray;box-sizing: border-box;top: 0;bottom: 0;left: 50%;z-index: 0;}#sk-container-id-15 div.sk-serial {display: flex;flex-direction: column;align-items: center;background-color: white;padding-right: 0.2em;padding-left: 0.2em;position: relative;}#sk-container-id-15 div.sk-item {position: relative;z-index: 1;}#sk-container-id-15 div.sk-parallel {display: flex;align-items: stretch;justify-content: center;background-color: white;position: relative;}#sk-container-id-15 div.sk-item::before, #sk-container-id-15 div.sk-parallel-item::before {content: \"\";position: absolute;border-left: 1px solid gray;box-sizing: border-box;top: 0;bottom: 0;left: 50%;z-index: -1;}#sk-container-id-15 div.sk-parallel-item {display: flex;flex-direction: column;z-index: 1;position: relative;background-color: white;}#sk-container-id-15 div.sk-parallel-item:first-child::after {align-self: flex-end;width: 50%;}#sk-container-id-15 div.sk-parallel-item:last-child::after {align-self: flex-start;width: 50%;}#sk-container-id-15 div.sk-parallel-item:only-child::after {width: 0;}#sk-container-id-15 div.sk-dashed-wrapped {border: 1px dashed gray;margin: 0 0.4em 0.5em 0.4em;box-sizing: border-box;padding-bottom: 0.4em;background-color: white;}#sk-container-id-15 div.sk-label label {font-family: monospace;font-weight: bold;display: inline-block;line-height: 1.2em;}#sk-container-id-15 div.sk-label-container {text-align: center;}#sk-container-id-15 div.sk-container {/* jupyter's `normalize.less` sets `[hidden] { display: none; }` but bootstrap.min.css set `[hidden] { display: none !important; }` so we also need the `!important` here to be able to override the default hidden behavior on the sphinx rendered scikit-learn.org. See: https://github.com/scikit-learn/scikit-learn/issues/21755 */display: inline-block !important;position: relative;}#sk-container-id-15 div.sk-text-repr-fallback {display: none;}</style><div id=\"sk-container-id-15\" class=\"sk-top-container\"><div class=\"sk-text-repr-fallback\"><pre>AdaBoostRegressor(base_estimator=GradientBoostingRegressor(max_depth=15,\n",
       "                                                           max_features=0.01,\n",
       "                                                           min_samples_leaf=10,\n",
       "                                                           n_estimators=200),\n",
       "                  random_state=42)</pre><b>In a Jupyter environment, please rerun this cell to show the HTML representation or trust the notebook. <br />On GitHub, the HTML representation is unable to render, please try loading this page with nbviewer.org.</b></div><div class=\"sk-container\" hidden><div class=\"sk-item sk-dashed-wrapped\"><div class=\"sk-label-container\"><div class=\"sk-label sk-toggleable\"><input class=\"sk-toggleable__control sk-hidden--visually\" id=\"sk-estimator-id-41\" type=\"checkbox\" ><label for=\"sk-estimator-id-41\" class=\"sk-toggleable__label sk-toggleable__label-arrow\">AdaBoostRegressor</label><div class=\"sk-toggleable__content\"><pre>AdaBoostRegressor(base_estimator=GradientBoostingRegressor(max_depth=15,\n",
       "                                                           max_features=0.01,\n",
       "                                                           min_samples_leaf=10,\n",
       "                                                           n_estimators=200),\n",
       "                  random_state=42)</pre></div></div></div><div class=\"sk-parallel\"><div class=\"sk-parallel-item\"><div class=\"sk-item\"><div class=\"sk-label-container\"><div class=\"sk-label sk-toggleable\"><input class=\"sk-toggleable__control sk-hidden--visually\" id=\"sk-estimator-id-42\" type=\"checkbox\" ><label for=\"sk-estimator-id-42\" class=\"sk-toggleable__label sk-toggleable__label-arrow\">base_estimator: GradientBoostingRegressor</label><div class=\"sk-toggleable__content\"><pre>GradientBoostingRegressor(max_depth=15, max_features=0.01, min_samples_leaf=10,\n",
       "                          n_estimators=200)</pre></div></div></div><div class=\"sk-serial\"><div class=\"sk-item\"><div class=\"sk-estimator sk-toggleable\"><input class=\"sk-toggleable__control sk-hidden--visually\" id=\"sk-estimator-id-43\" type=\"checkbox\" ><label for=\"sk-estimator-id-43\" class=\"sk-toggleable__label sk-toggleable__label-arrow\">GradientBoostingRegressor</label><div class=\"sk-toggleable__content\"><pre>GradientBoostingRegressor(max_depth=15, max_features=0.01, min_samples_leaf=10,\n",
       "                          n_estimators=200)</pre></div></div></div></div></div></div></div></div></div></div>"
      ],
      "text/plain": [
       "AdaBoostRegressor(base_estimator=GradientBoostingRegressor(max_depth=15,\n",
       "                                                           max_features=0.01,\n",
       "                                                           min_samples_leaf=10,\n",
       "                                                           n_estimators=200),\n",
       "                  random_state=42)"
      ]
     },
     "execution_count": 97,
     "metadata": {},
     "output_type": "execute_result"
    }
   ],
   "source": [
    "ada_boost_gbr.fit(X_train, y_train)"
   ]
  },
  {
   "cell_type": "code",
   "execution_count": 98,
   "metadata": {},
   "outputs": [
    {
     "name": "stdout",
     "output_type": "stream",
     "text": [
      "Root Mean Squared Error of AdaBoost with GradientBoostingRegressor: 4.2578\n"
     ]
    }
   ],
   "source": [
    "# Dự đoán trên tập kiểm tra\n",
    "y_pred_ada_boost_gbr = ada_boost_gbr.predict(X_test)\n",
    "\n",
    "# Tính toán lỗi trung bình bình phương\n",
    "rmse_ada_boost_gbr = np.sqrt(mean_squared_error(y_test, y_pred_ada_boost_gbr))\n",
    "print(f'Root Mean Squared Error of AdaBoost with GradientBoostingRegressor: {rmse_ada_boost_gbr:.4f}')\n"
   ]
  }
 ],
 "metadata": {
  "kernelspec": {
   "display_name": "Python 3",
   "language": "python",
   "name": "python3"
  },
  "language_info": {
   "codemirror_mode": {
    "name": "ipython",
    "version": 3
   },
   "file_extension": ".py",
   "mimetype": "text/x-python",
   "name": "python",
   "nbconvert_exporter": "python",
   "pygments_lexer": "ipython3",
   "version": "3.10.11"
  }
 },
 "nbformat": 4,
 "nbformat_minor": 2
}
