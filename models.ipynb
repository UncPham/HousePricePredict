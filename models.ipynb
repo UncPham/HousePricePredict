{
 "cells": [
  {
   "cell_type": "code",
   "execution_count": 137,
   "metadata": {},
   "outputs": [],
   "source": [
    "from sklearn.compose import ColumnTransformer\n",
    "from sklearn.preprocessing import OneHotEncoder, StandardScaler\n",
    "from sklearn.pipeline import Pipeline\n",
    "from sklearn.model_selection import train_test_split\n",
    "from sklearn.linear_model import LinearRegression\n",
    "from sklearn.metrics import mean_squared_error\n",
    "from sklearn.ensemble import RandomForestRegressor"
   ]
  },
  {
   "cell_type": "code",
   "execution_count": 138,
   "metadata": {},
   "outputs": [],
   "source": [
    "data = pd.read_csv('final_data.csv')"
   ]
  },
  {
   "cell_type": "code",
   "execution_count": 139,
   "metadata": {},
   "outputs": [
    {
     "name": "stdout",
     "output_type": "stream",
     "text": [
      "Mean Squared Error (One-Hot Encoding): 127.46897198509714\n"
     ]
    },
    {
     "data": {
      "text/plain": [
       "0.6308115709077001"
      ]
     },
     "execution_count": 139,
     "metadata": {},
     "output_type": "execute_result"
    }
   ],
   "source": [
    "# Tách dữ liệu thành features (X) và target (y)\n",
    "X = data[['Quận', 'Loại', 'Diện tích (m²)', 'Số phòng ngủ', 'Số toilet']]\n",
    "y = data['Mức giá (tỷ)']\n",
    "\n",
    "# Phân chia dữ liệu thành tập huấn luyện và tập kiểm tra\n",
    "X_train, X_test, y_train, y_test = train_test_split(X, y, test_size=0.1, random_state=20)\n",
    "\n",
    "# Xây dựng pipeline cho mô hình hồi quy tuyến tính với mã hóa one-hot\n",
    "numeric_features = ['Diện tích (m²)', 'Số phòng ngủ', 'Số toilet']\n",
    "categorical_features = ['Quận', 'Loại']\n",
    "\n",
    "numeric_transformer = Pipeline(steps=[\n",
    "    ('scaler', StandardScaler())\n",
    "])\n",
    "\n",
    "categorical_transformer_onehot = Pipeline(steps=[\n",
    "    ('onehot', OneHotEncoder(handle_unknown='ignore'))\n",
    "])\n",
    "\n",
    "preprocessor_onehot = ColumnTransformer(\n",
    "    transformers=[\n",
    "        ('num', numeric_transformer, numeric_features),\n",
    "        ('cat', categorical_transformer_onehot, categorical_features)\n",
    "    ])\n",
    "\n",
    "# Mô hình với mã hóa one-hot\n",
    "model_onehot = Pipeline(steps=[('preprocessor', preprocessor_onehot),\n",
    "                               ('regressor', LinearRegression())])\n",
    "\n",
    "# Huấn luyện mô hình với mã hóa one-hot\n",
    "model_onehot.fit(X_train, y_train)\n",
    "\n",
    "# Đánh giá mô hình với mã hóa one-hot trên tập kiểm tra\n",
    "y_pred_onehot = model_onehot.predict(X_test)\n",
    "mse_onehot = mean_squared_error(y_test, y_pred_onehot)\n",
    "print('Mean Squared Error (One-Hot Encoding):', mse_onehot)\n",
    "model_onehot.score(X_test, y_test)"
   ]
  },
  {
   "cell_type": "code",
   "execution_count": 140,
   "metadata": {},
   "outputs": [
    {
     "name": "stdout",
     "output_type": "stream",
     "text": [
      "MSE:  82.03881933653703\n"
     ]
    },
    {
     "data": {
      "text/plain": [
       "0.7623909382513561"
      ]
     },
     "execution_count": 140,
     "metadata": {},
     "output_type": "execute_result"
    }
   ],
   "source": [
    "# Mô hình với mã hóa one-hot và Random Forest\n",
    "model_onehot_rf = Pipeline(steps=[\n",
    "    ('preprocessor', preprocessor_onehot),\n",
    "    ('regressor', RandomForestRegressor())\n",
    "])\n",
    "\n",
    "# Huấn luyện mô hình với mã hóa one-hot và Random Forest\n",
    "model_onehot_rf.fit(X_train, y_train)\n",
    "\n",
    "# Đánh giá mô hình với mã hóa one-hot và Random Forest trên tập kiểm tra\n",
    "y_pred_onehot_rf = model_onehot_rf.predict(X_test)\n",
    "print(\"MSE: \",mean_squared_error(y_test, y_pred_onehot_rf))\n",
    "model_onehot_rf.score(X_test, y_test)\n"
   ]
  }
 ],
 "metadata": {
  "kernelspec": {
   "display_name": "Python 3",
   "language": "python",
   "name": "python3"
  },
  "language_info": {
   "codemirror_mode": {
    "name": "ipython",
    "version": 3
   },
   "file_extension": ".py",
   "mimetype": "text/x-python",
   "name": "python",
   "nbconvert_exporter": "python",
   "pygments_lexer": "ipython3",
   "version": "3.12.2"
  }
 },
 "nbformat": 4,
 "nbformat_minor": 2
}
