{
 "cells": [
  {
   "cell_type": "code",
   "execution_count": 41,
   "metadata": {},
   "outputs": [],
   "source": [
    "from sklearn.compose import ColumnTransformer\n",
    "from sklearn.preprocessing import OneHotEncoder, StandardScaler\n",
    "from sklearn.pipeline import Pipeline\n",
    "from sklearn.model_selection import train_test_split\n",
    "from sklearn.linear_model import LinearRegression\n",
    "from sklearn.metrics import mean_squared_error ,r2_score, mean_absolute_error\n",
    "from sklearn.ensemble import RandomForestRegressor\n",
    "from sklearn.ensemble import GradientBoostingRegressor\n",
    "import pandas as pd"
   ]
  },
  {
   "cell_type": "code",
   "execution_count": 42,
   "metadata": {},
   "outputs": [],
   "source": [
    "data = pd.read_csv('final_data.csv')"
   ]
  },
  {
   "cell_type": "code",
   "execution_count": 43,
   "metadata": {},
   "outputs": [],
   "source": [
    "# Tách dữ liệu thành features (X) và target (y)\n",
    "X = data[['Quận', 'Loại nhà', 'Diện tích (m²)', 'Số phòng ngủ', 'Số toilet']]\n",
    "y = data['Mức giá (tỷ)']"
   ]
  },
  {
   "cell_type": "code",
   "execution_count": 44,
   "metadata": {},
   "outputs": [],
   "source": [
    "# Phân chia dữ liệu thành tập huấn luyện và tập kiểm tra\n",
    "X_train, X_test, y_train, y_test = train_test_split(X, y, test_size=0.2, random_state=20)"
   ]
  },
  {
   "cell_type": "code",
   "execution_count": 45,
   "metadata": {},
   "outputs": [
    {
     "name": "stdout",
     "output_type": "stream",
     "text": [
      "MSE (One-Hot Encoding): 90.37495896480813\n",
      "R2:  0.671920406604551\n",
      "MAE:  5.621589350559333\n"
     ]
    }
   ],
   "source": [
    "# Xây dựng pipeline cho mô hình hồi quy tuyến tính với mã hóa one-hot\n",
    "numeric_features = ['Diện tích (m²)', 'Số phòng ngủ', 'Số toilet']\n",
    "categorical_features = ['Quận', 'Loại nhà']\n",
    "\n",
    "numeric_transformer = Pipeline(steps=[\n",
    "    ('scaler', StandardScaler())\n",
    "])\n",
    "\n",
    "categorical_transformer_onehot = Pipeline(steps=[\n",
    "    ('onehot', OneHotEncoder(handle_unknown='ignore'))\n",
    "])\n",
    "\n",
    "preprocessor_onehot = ColumnTransformer(\n",
    "    transformers=[\n",
    "        ('num', numeric_transformer, numeric_features),\n",
    "        ('cat', categorical_transformer_onehot, categorical_features)\n",
    "    ])\n",
    "\n",
    "# Mô hình với mã hóa one-hot\n",
    "model_onehot = Pipeline(steps=[('preprocessor', preprocessor_onehot),\n",
    "                               ('regressor', LinearRegression())])\n",
    "\n",
    "# Huấn luyện mô hình với mã hóa one-hot\n",
    "model_onehot.fit(X_train, y_train)\n",
    "\n",
    "# Đánh giá mô hình với mã hóa one-hot trên tập kiểm tra\n",
    "y_pred_onehot = model_onehot.predict(X_test)\n",
    "mse_onehot = mean_squared_error(y_test, y_pred_onehot)\n",
    "print('MSE (One-Hot Encoding):', mse_onehot)\n",
    "r2_onehot = r2_score(y_test, y_pred_onehot)\n",
    "print(\"R2: \", r2_onehot)\n",
    "mae_onehot = mean_absolute_error(y_test, y_pred_onehot)\n",
    "print(\"MAE: \", mae_onehot)"
   ]
  },
  {
   "cell_type": "code",
   "execution_count": 46,
   "metadata": {},
   "outputs": [
    {
     "name": "stdout",
     "output_type": "stream",
     "text": [
      "MSE:  54.2477139146707\n",
      "R2:  0.8030696984251119\n",
      "MAE:  2.905369015555096\n"
     ]
    }
   ],
   "source": [
    "# Mô hình với mã hóa one-hot và Random Forest\n",
    "model_onehot_rf = Pipeline(steps=[\n",
    "    ('preprocessor', preprocessor_onehot),\n",
    "    ('regressor', RandomForestRegressor())\n",
    "])\n",
    "\n",
    "# Huấn luyện mô hình với mã hóa one-hot và Random Forest\n",
    "model_onehot_rf.fit(X_train, y_train)\n",
    "\n",
    "# Đánh giá mô hình với mã hóa one-hot và Random Forest trên tập kiểm tra\n",
    "y_pred_onehot_rf = model_onehot_rf.predict(X_test)\n",
    "print(\"MSE: \",mean_squared_error(y_test, y_pred_onehot_rf))\n",
    "r2_onehot_rf = r2_score(y_test, y_pred_onehot_rf)\n",
    "print(\"R2: \", r2_onehot_rf)\n",
    "mae_onehot_rf = mean_absolute_error(y_test, y_pred_onehot_rf)\n",
    "print(\"MAE: \", mae_onehot_rf)"
   ]
  },
  {
   "cell_type": "code",
   "execution_count": 47,
   "metadata": {},
   "outputs": [
    {
     "name": "stdout",
     "output_type": "stream",
     "text": [
      "MSE:  56.85730389639018\n",
      "R2:  0.7935963528221031\n",
      "MAE:  3.2507490003654875\n"
     ]
    }
   ],
   "source": [
    "# Mô hình với mã hóa one-hot và Gradient Boosting\n",
    "model_onehot_gb = Pipeline(steps=[\n",
    "    ('preprocessor', preprocessor_onehot),\n",
    "    ('regressor', GradientBoostingRegressor())\n",
    "])\n",
    "\n",
    "# Huấn luyện mô hình với mã hóa one-hot và Gradient Boosting\n",
    "model_onehot_gb.fit(X_train, y_train)\n",
    "\n",
    "# Đánh giá mô hình với mã hóa one-hot và Gradient Boosting trên tập kiểm tra\n",
    "y_pred_onehot_gb = model_onehot_gb.predict(X_test)\n",
    "print(\"MSE: \", mean_squared_error(y_test, y_pred_onehot_gb))\n",
    "r2_onehot_gb = r2_score(y_test, y_pred_onehot_gb)\n",
    "print(\"R2: \", r2_onehot_gb)\n",
    "mae_onehot_gb = mean_absolute_error(y_test, y_pred_onehot_gb)\n",
    "print(\"MAE: \", mae_onehot_gb)"
   ]
  }
 ],
 "metadata": {
  "kernelspec": {
   "display_name": "Python 3",
   "language": "python",
   "name": "python3"
  },
  "language_info": {
   "codemirror_mode": {
    "name": "ipython",
    "version": 3
   },
   "file_extension": ".py",
   "mimetype": "text/x-python",
   "name": "python",
   "nbconvert_exporter": "python",
   "pygments_lexer": "ipython3",
   "version": "3.12.2"
  }
 },
 "nbformat": 4,
 "nbformat_minor": 2
}
